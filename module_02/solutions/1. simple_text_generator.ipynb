{
  "cells": [
    {
      "cell_type": "markdown",
      "metadata": {
        "id": "XepyIdI1ZyGL"
      },
      "source": [
        "# Text Generation\n",
        "\n",
        "## Understanding Language\n",
        "Language is one of the most complex aspects of our existence. We use language to communicate our thoughts and choices. Every language is defined with a list of characters called the alphabet, a vocabulary and a set of rules called grammar. Yet it is not a trivial task to understand and learn a language.\n",
        "\n",
        "It takes years for a human to grasp a few languages, let alone become a master of it. Most languages have vast vocabularies which are ever expanding along with complex and fuzzy grammatical rules and structures. We see/think and write/share differently. To put simply, languages are ambiguous. The ambiguity, sarcasm, context, and continuous changes to usage patterns are some of the challenges associated with language.\n",
        "\n",
        "__Examples of ambiguity__\n",
        "\n",
        "- The bowler made the batsman _duck_.\n",
        "> The word _duck_, is it verb or noun?\n",
        "\n",
        "- Stolen painting found by _tree_.\n",
        "> The word _tree_, is it an actor or a place?\n",
        "\n",
        "- Are you comfortable with _python_?\n",
        "> The word _python_, is it representing the programming language python or a snake or something else?\n",
        "\n"
      ]
    },
    {
      "cell_type": "markdown",
      "metadata": {
        "id": "x24gSCkmZtTP"
      },
      "source": [
        "## Recurrent Networks and Seq2Seq\n",
        "\n",
        "Recurrent Neural Networks (RNNs) and their gated cell variants such as Long Short Term Memory Cells (LSTMs) and Gated Recurrent Units (GRUs) provided a mechanism for language modeling, i.e. they can learn word ordering and provide predictions for next word in a sequence. This allows us to use RNNs for generative tasks, such as __text generation__, machine translation, and even image captioning.\n",
        "\n",
        "RNNs allow for different neural architectures that are shown in the picture below:\n",
        "<img src=\"../../assets/module_2/rnn_setup_nb_2.jpeg\">\n",
        "\n",
        "> source:  [Unreasonable Effectiveness of Recurrent Neural Networks](http://karpathy.github.io/2015/05/21/rnn-effectiveness/)\n",
        "\n",
        "- **One-to-one** is a traditional neural network with one input and one output\n",
        "- **One-to-many** is a generative architecture that accepts one input value, and generates a sequence of output values. For example, if we want to train image captioning network that would produce a textual description of a picture, we can have a picture as input, pass it through CNN to obtain hidden state, and then have recurrent chain generate caption word-by-word\n",
        "- **Many-to-one** corresponds to RNN architectures we described in the previous unit, such as text classification\n",
        "- **Many-to-many**, or sequence-to-sequence corresponds to tasks such as machine translation or language translation, where we have first RNN collect all information from the input sequence into the hidden state, and another RNN chain unrolls this state into the output sequence."
      ]
    },
    {
      "cell_type": "markdown",
      "metadata": {},
      "source": [
        "## Language Modeling\n",
        "By far the most widely used application from the NLP world is language modeling. We use it daily on our phone keyboards, email applications and a ton of other places.\n",
        "\n",
        "In simple words, a language model takes certain text as input context to generate the next set of words as output. This is interesting because a language model tries to understand the input context, the language structure (though in a very naive way) to predict the next word(s). We use it in the form of text completion utilities on search engines, chat platforms, emails etc. all the time. Language models are a perfect real life application of NLP and showcase the power of RNNs.\n",
        "\n",
        "Language models can be developed train in different ways. The most common and widely used method is the sliding window approach. The model takes a small window of text as input and tried to predict the next word as the output. The following figure illustrates the same visually.\n",
        "\n",
        "<img src=\"../../assets/module_2/lm_training_nb_2.png\">\n",
        "\n"
      ]
    },
    {
      "cell_type": "markdown",
      "metadata": {
        "id": "7j_gWscSZw5s"
      },
      "source": [
        "Now, we will focus on simple generative models that help us generate text. For simplicity, let's build a character-level network, which generates news articles text letter by letter. While generating news articles may seem quite impractical, the same idea of sequence generation is used in many practical tasks, such as machine translation, text summarization, etc.\n",
        "\n",
        "During training, we need to take some text corpus, and split it into letter sequences."
      ]
    },
    {
      "cell_type": "markdown",
      "metadata": {},
      "source": [
        "<a target=\"_blank\" href=\"https://colab.research.google.com/github/raghavbali/llm_workshop_dhs23/blob/main/module_02/solutions/1.%20simple_text_generator.ipynb\">\n",
        "  <img src=\"https://colab.research.google.com/assets/colab-badge.svg\" alt=\"Open In Colab\"/>\n",
        "</a>"
      ]
    },
    {
      "cell_type": "code",
      "execution_count": 19,
      "metadata": {
        "id": "TpEyspng62Ps"
      },
      "outputs": [],
      "source": [
        "import re\n",
        "import os\n",
        "import numpy as np\n",
        "from collections import Counter, OrderedDict\n",
        "\n",
        "import torch\n",
        "import torch.nn as nn\n",
        "import torch.optim as optim\n",
        "import torchtext\n",
        "import torch.utils.data as data\n",
        "from torch.utils.data import DataLoader\n",
        "\n",
        "from tqdm.notebook import tqdm"
      ]
    },
    {
      "cell_type": "code",
      "execution_count": 20,
      "metadata": {
        "id": "fHVoDYz7IOuQ"
      },
      "outputs": [],
      "source": [
        "device = torch.device(\"cuda:0\" if torch.cuda.is_available() else \"cpu\")"
      ]
    },
    {
      "cell_type": "markdown",
      "metadata": {
        "id": "Ll2grkDJhSn2"
      },
      "source": [
        "## A quick snippet of the book"
      ]
    },
    {
      "cell_type": "code",
      "execution_count": 21,
      "metadata": {
        "colab": {
          "base_uri": "https://localhost:8080/"
        },
        "id": "YHhpOY2phPB8",
        "outputId": "ed3077c8-ee13-4574-e717-ab4a1360039f"
      },
      "outputs": [
        {
          "name": "stdout",
          "output_type": "stream",
          "text": [
            "--2023-07-12 10:05:26--  http://www.gutenberg.org/files/1661/1661-0.txt\n",
            "Resolving www.gutenberg.org (www.gutenberg.org)... 152.19.134.47, 2610:28:3090:3000:0:bad:cafe:47\n",
            "Connecting to www.gutenberg.org (www.gutenberg.org)|152.19.134.47|:80... connected.\n",
            "HTTP request sent, awaiting response... 302 Found\n",
            "Location: https://www.gutenberg.org/files/1661/1661-0.txt [following]\n",
            "--2023-07-12 10:05:27--  https://www.gutenberg.org/files/1661/1661-0.txt\n",
            "Connecting to www.gutenberg.org (www.gutenberg.org)|152.19.134.47|:443... connected.\n",
            "HTTP request sent, awaiting response... 200 OK\n",
            "Length: 607430 (593K) [text/plain]\n",
            "Saving to: ‘sherlock_homes.txt’\n",
            "\n",
            "sherlock_homes.txt  100%[===================>] 593.19K  1.15MB/s    in 0.5s    \n",
            "\n",
            "2023-07-12 10:05:28 (1.15 MB/s) - ‘sherlock_homes.txt’ saved [607430/607430]\n",
            "\n"
          ]
        }
      ],
      "source": [
        "!wget -O sherlock_homes.txt http://www.gutenberg.org/files/1661/1661-0.txt"
      ]
    },
    {
      "cell_type": "code",
      "execution_count": 22,
      "metadata": {
        "id": "tBVc6uBZhWJc"
      },
      "outputs": [],
      "source": [
        "filename = \"sherlock_homes.txt\"\n",
        "raw_text = open(filename, 'r', encoding='utf-8').read()"
      ]
    },
    {
      "cell_type": "code",
      "execution_count": 23,
      "metadata": {
        "colab": {
          "base_uri": "https://localhost:8080/"
        },
        "id": "iUwRV-_rhO9d",
        "outputId": "f1dbe93e-c480-4ca4-ba08-1e7d16c7a983"
      },
      "outputs": [
        {
          "name": "stdout",
          "output_type": "stream",
          "text": [
            "she is always _the_ woman. I have seldom heard him\n",
            "mention her under any other name. In his eyes she\n"
          ]
        }
      ],
      "source": [
        "print(raw_text[1500:1600])"
      ]
    },
    {
      "cell_type": "markdown",
      "metadata": {
        "id": "3VjXYVjomORS"
      },
      "source": [
        "## Prepare Text"
      ]
    },
    {
      "cell_type": "code",
      "execution_count": 24,
      "metadata": {
        "id": "WgImwBlXhO2O"
      },
      "outputs": [],
      "source": [
        "text = raw_text [1450:]\n",
        "text = text.lower()"
      ]
    },
    {
      "cell_type": "code",
      "execution_count": 25,
      "metadata": {
        "id": "qAdhRndGUOmO"
      },
      "outputs": [],
      "source": [
        "class Dataset(torch.utils.data.Dataset):\n",
        "    def __init__(\n",
        "        self,\n",
        "        params,\n",
        "    ):\n",
        "        self.params = params\n",
        "        args = None\n",
        "        self.words = self.load_words()\n",
        "        self.uniq_words = self.get_uniq_words()\n",
        "\n",
        "        self.index_to_word = {index: word for index, word in enumerate(self.uniq_words)}\n",
        "        self.word_to_index = {word: index for index, word in enumerate(self.uniq_words)}\n",
        "\n",
        "        self.words_indexes = [self.word_to_index[w] for w in self.words]\n",
        "\n",
        "    def load_words(self):\n",
        "        text = self.params['text']\n",
        "        return [word for word in re.split(' |\\n|,|!',text) if word != '']\n",
        "\n",
        "    def get_uniq_words(self):\n",
        "        word_counts = Counter(self.words)\n",
        "        return sorted(word_counts, key=word_counts.get, reverse=True)\n",
        "\n",
        "    def __len__(self):\n",
        "        return len(self.words_indexes) - self.params['sequence_length']\n",
        "\n",
        "    def __getitem__(self, index):\n",
        "        return (\n",
        "            torch.tensor(self.words_indexes[index:index+self.params['sequence_length']]),\n",
        "            torch.tensor(self.words_indexes[index+1:index+self.params['sequence_length']+1]),\n",
        "        )"
      ]
    },
    {
      "cell_type": "code",
      "execution_count": 26,
      "metadata": {
        "id": "GG28fWqHaVxY"
      },
      "outputs": [],
      "source": [
        "params = {\n",
        "    'sequence_length': 100,\n",
        "    'text': text\n",
        "}\n",
        "\n",
        "dataset = Dataset(params)"
      ]
    },
    {
      "cell_type": "markdown",
      "metadata": {
        "id": "7PEz0UpyeIjO"
      },
      "source": [
        "## Prepare a Simple LSTM Based Text Generator"
      ]
    },
    {
      "cell_type": "code",
      "execution_count": 27,
      "metadata": {
        "id": "Dwx8nUJ6HZPE"
      },
      "outputs": [],
      "source": [
        "class RNNGen(torch.nn.Module):\n",
        "    def __init__(self, input_size, embed_size,\n",
        "                 hidden_size, output_size, num_layers):\n",
        "        super(RNNGen, self).__init__()\n",
        "\n",
        "        self.num_layers = num_layers\n",
        "        self.hidden_size = hidden_size\n",
        "\n",
        "        self.embed = torch.nn.Embedding(input_size, embed_size)\n",
        "        self.lstm = torch.nn.LSTM(input_size=embed_size,\n",
        "                                hidden_size=hidden_size,\n",
        "                                num_layers=num_layers)\n",
        "        self.fc = torch.nn.Linear(hidden_size, output_size)\n",
        "        self.init_hidden = torch.nn.Parameter(torch.zeros(\n",
        "                                              num_layers, 1, hidden_size))\n",
        "\n",
        "    def forward(self, features, hidden_state):\n",
        "        embedded = self.embed(features)# .view(1, -1)\n",
        "        output, hidden_state = self.lstm(embedded,hidden_state)#.view(1, 1, -1))\n",
        "        #output = output[:, -1, :]\n",
        "        output = self.fc(output)#.view(1, -1))\n",
        "        return output, hidden_state\n",
        "\n",
        "    def init_zero_state(self, sequence_length):\n",
        "        return (torch.zeros(self.num_layers, sequence_length, self.hidden_size),\n",
        "                torch.zeros(self.num_layers, sequence_length, self.hidden_size))"
      ]
    },
    {
      "cell_type": "code",
      "execution_count": 28,
      "metadata": {
        "id": "rfOOxI9mIdqB"
      },
      "outputs": [],
      "source": [
        "model = RNNGen(\n",
        "    input_size = len(dataset.get_uniq_words()),\n",
        "    output_size = len(dataset.get_uniq_words()),\n",
        "    embed_size = 512,\n",
        "    hidden_size = 64,\n",
        "    num_layers = 2\n",
        ")\n",
        "model.to(device)\n",
        "\n",
        "optimizer = optim.Adam(model.parameters(), lr=0.001)\n",
        "loss_fn = nn.CrossEntropyLoss()"
      ]
    },
    {
      "cell_type": "code",
      "execution_count": 29,
      "metadata": {
        "colab": {
          "base_uri": "https://localhost:8080/"
        },
        "id": "55h7gjh7I-Jj",
        "outputId": "b99ea509-0816-416f-b28c-108f4c04aedc"
      },
      "outputs": [
        {
          "name": "stdout",
          "output_type": "stream",
          "text": [
            "RNNGen(\n",
            "  (embed): Embedding(12141, 512)\n",
            "  (lstm): LSTM(512, 64, num_layers=2)\n",
            "  (fc): Linear(in_features=64, out_features=12141, bias=True)\n",
            ")\n"
          ]
        }
      ],
      "source": [
        "print(model)"
      ]
    },
    {
      "cell_type": "markdown",
      "metadata": {
        "id": "UbRue6OQeM-5"
      },
      "source": [
        "## Utilities to Train and Predict"
      ]
    },
    {
      "cell_type": "code",
      "execution_count": 31,
      "metadata": {
        "id": "pEOivRtEYwbM"
      },
      "outputs": [],
      "source": [
        "def generate_text(dataset, model, prompt_text, next_words=10):\n",
        "    words = prompt_text.split(' ')\n",
        "    #model.eval()\n",
        "\n",
        "    state_h, state_c = model.init_zero_state(len(words))\n",
        "\n",
        "    print(f\"Prompt Text = {prompt_text}\")\n",
        "    print(\"-\"*25)\n",
        "    print(\"Generated Text -> \\n\")\n",
        "    for i in range(0, next_words):\n",
        "        x = torch.tensor([[dataset.word_to_index[w] for w in words[i:]]])\n",
        "        y_pred, (state_h, state_c) = model(x.to(device), (state_h.to(device), state_c.to(device)))\n",
        "\n",
        "        last_word_logits = y_pred[0][-1]\n",
        "        p = torch.nn.functional.softmax(last_word_logits.cpu(), dim=0).detach().numpy()\n",
        "        word_index = np.random.choice(len(last_word_logits), p=p)\n",
        "        words.append(dataset.index_to_word[word_index])\n",
        "\n",
        "    return words"
      ]
    },
    {
      "cell_type": "code",
      "execution_count": 30,
      "metadata": {
        "id": "DQBeeHCaWRLM"
      },
      "outputs": [],
      "source": [
        "def train(dataset, model, params):\n",
        "    loss_list = []\n",
        "    model.train()\n",
        "\n",
        "    dataloader = DataLoader(\n",
        "        dataset,\n",
        "        batch_size=params['batch_size'],\n",
        "    )\n",
        "\n",
        "    criterion = nn.CrossEntropyLoss()\n",
        "    optimizer = optim.Adam(model.parameters(), lr=0.001)\n",
        "\n",
        "    for epoch in range(params['max_epochs']):\n",
        "        state_h, state_c = model.init_zero_state(params['sequence_length'])\n",
        "\n",
        "        for batch, (x, y) in enumerate(dataloader):\n",
        "\n",
        "            optimizer.zero_grad()\n",
        "\n",
        "            y_pred, (state_h, state_c) = model(x.to(device), (state_h.to(device), state_c.to(device)))\n",
        "            loss = criterion(y_pred.transpose(1, 2), y.to(device))\n",
        "\n",
        "            state_h = state_h.detach()\n",
        "            state_c = state_c.detach()\n",
        "\n",
        "            loss.backward()\n",
        "            optimizer.step()\n",
        "\n",
        "            if batch%10 == 0:\n",
        "              print({ 'epoch': epoch, 'batch': batch, 'loss': loss.item() })\n",
        "            loss_list.append(loss.item())\n",
        "            if batch%128 == 0:\n",
        "              print(' '.join(generate_text(dataset, model, prompt_text='watson what are you')))\n",
        "    return loss_list"
      ]
    },
    {
      "cell_type": "markdown",
      "metadata": {
        "id": "utNYk_UkeT1E"
      },
      "source": [
        "## Let Us Build Our First Text Generator\n",
        "> Did any one say Language Models?"
      ]
    },
    {
      "cell_type": "code",
      "execution_count": 32,
      "metadata": {
        "colab": {
          "base_uri": "https://localhost:8080/"
        },
        "id": "8fhh9Pn8Xbmr",
        "outputId": "9be2798d-0ef8-46a1-ba08-f3bfad6125d0"
      },
      "outputs": [
        {
          "name": "stdout",
          "output_type": "stream",
          "text": [
            "{'epoch': 0, 'batch': 0, 'loss': 9.408352851867676}\n",
            "Prompt Text = watson what are you\n",
            "-------------------------\n",
            "Generated Text -> \n",
            "\n",
            "watson what are you scenery rolling sentence—‘this association sable. to-morrow?” case-book sailor freedom sailing-ship.\n",
            "{'epoch': 0, 'batch': 10, 'loss': 9.334738731384277}\n",
            "{'epoch': 0, 'batch': 20, 'loss': 8.880098342895508}\n",
            "{'epoch': 0, 'batch': 30, 'loss': 7.962679386138916}\n",
            "{'epoch': 0, 'batch': 40, 'loss': 7.0475311279296875}\n",
            "{'epoch': 0, 'batch': 50, 'loss': 7.046125888824463}\n",
            "{'epoch': 0, 'batch': 60, 'loss': 7.037005424499512}\n",
            "{'epoch': 0, 'batch': 70, 'loss': 6.8647308349609375}\n",
            "{'epoch': 0, 'batch': 80, 'loss': 7.096351146697998}\n",
            "{'epoch': 0, 'batch': 90, 'loss': 6.789387226104736}\n",
            "{'epoch': 0, 'batch': 100, 'loss': 6.991313934326172}\n",
            "{'epoch': 0, 'batch': 110, 'loss': 6.870967388153076}\n",
            "{'epoch': 0, 'batch': 120, 'loss': 7.0650954246521}\n",
            "Prompt Text = watson what are you\n",
            "-------------------------\n",
            "Generated Text -> \n",
            "\n",
            "watson what are you lengths guidance the he apache the sluggishly a over thick\n",
            "{'epoch': 0, 'batch': 130, 'loss': 6.968367099761963}\n",
            "{'epoch': 0, 'batch': 140, 'loss': 6.765830039978027}\n",
            "{'epoch': 0, 'batch': 150, 'loss': 7.062081336975098}\n",
            "{'epoch': 0, 'batch': 160, 'loss': 7.161105155944824}\n",
            "{'epoch': 0, 'batch': 170, 'loss': 6.588058948516846}\n",
            "{'epoch': 0, 'batch': 180, 'loss': 6.575908184051514}\n",
            "{'epoch': 0, 'batch': 190, 'loss': 6.920022964477539}\n",
            "{'epoch': 0, 'batch': 200, 'loss': 6.6928558349609375}\n",
            "{'epoch': 0, 'batch': 210, 'loss': 8.744205474853516}\n",
            "{'epoch': 1, 'batch': 0, 'loss': 6.976840019226074}\n",
            "Prompt Text = watson what are you\n",
            "-------------------------\n",
            "Generated Text -> \n",
            "\n",
            "watson what are you late. strong the emerged. but spoke maid?” with the measures\n",
            "{'epoch': 1, 'batch': 10, 'loss': 6.800986289978027}\n",
            "{'epoch': 1, 'batch': 20, 'loss': 6.593411445617676}\n",
            "{'epoch': 1, 'batch': 30, 'loss': 6.754286289215088}\n",
            "{'epoch': 1, 'batch': 40, 'loss': 6.344796180725098}\n",
            "{'epoch': 1, 'batch': 50, 'loss': 6.559866905212402}\n",
            "{'epoch': 1, 'batch': 60, 'loss': 6.701954364776611}\n",
            "{'epoch': 1, 'batch': 70, 'loss': 6.551180839538574}\n",
            "{'epoch': 1, 'batch': 80, 'loss': 6.779792308807373}\n",
            "{'epoch': 1, 'batch': 90, 'loss': 6.476222038269043}\n",
            "{'epoch': 1, 'batch': 100, 'loss': 6.714287281036377}\n",
            "{'epoch': 1, 'batch': 110, 'loss': 6.586238861083984}\n",
            "{'epoch': 1, 'batch': 120, 'loss': 6.711974620819092}\n",
            "Prompt Text = watson what are you\n",
            "-------------------------\n",
            "Generated Text -> \n",
            "\n",
            "watson what are you acquaintance bright “john the how it been brixton i winding\n",
            "{'epoch': 1, 'batch': 130, 'loss': 6.723262310028076}\n",
            "{'epoch': 1, 'batch': 140, 'loss': 6.507654190063477}\n",
            "{'epoch': 1, 'batch': 150, 'loss': 6.749897003173828}\n",
            "{'epoch': 1, 'batch': 160, 'loss': 6.919098377227783}\n",
            "{'epoch': 1, 'batch': 170, 'loss': 6.3572893142700195}\n",
            "{'epoch': 1, 'batch': 180, 'loss': 6.344226837158203}\n",
            "{'epoch': 1, 'batch': 190, 'loss': 6.636334419250488}\n",
            "{'epoch': 1, 'batch': 200, 'loss': 6.465487480163574}\n",
            "{'epoch': 1, 'batch': 210, 'loss': 8.142364501953125}\n",
            "{'epoch': 2, 'batch': 0, 'loss': 6.780020236968994}\n",
            "Prompt Text = watson what are you\n",
            "-------------------------\n",
            "Generated Text -> \n",
            "\n",
            "watson what are you fasteners entreaties.” see to than between more no concentrated had\n",
            "{'epoch': 2, 'batch': 10, 'loss': 6.604167938232422}\n",
            "{'epoch': 2, 'batch': 20, 'loss': 6.4743828773498535}\n",
            "{'epoch': 2, 'batch': 30, 'loss': 6.632009506225586}\n",
            "{'epoch': 2, 'batch': 40, 'loss': 6.226634979248047}\n",
            "{'epoch': 2, 'batch': 50, 'loss': 6.389547824859619}\n",
            "{'epoch': 2, 'batch': 60, 'loss': 6.562929630279541}\n",
            "{'epoch': 2, 'batch': 70, 'loss': 6.385107040405273}\n",
            "{'epoch': 2, 'batch': 80, 'loss': 6.617154121398926}\n",
            "{'epoch': 2, 'batch': 90, 'loss': 6.296374320983887}\n",
            "{'epoch': 2, 'batch': 100, 'loss': 6.557196140289307}\n",
            "{'epoch': 2, 'batch': 110, 'loss': 6.41278076171875}\n",
            "{'epoch': 2, 'batch': 120, 'loss': 6.545257091522217}\n",
            "Prompt Text = watson what are you\n",
            "-------------------------\n",
            "Generated Text -> \n",
            "\n",
            "watson what are you it?’ injunction fresno time which his ramblings of the ate\n",
            "{'epoch': 2, 'batch': 130, 'loss': 6.551882743835449}\n",
            "{'epoch': 2, 'batch': 140, 'loss': 6.322690010070801}\n",
            "{'epoch': 2, 'batch': 150, 'loss': 6.586521148681641}\n",
            "{'epoch': 2, 'batch': 160, 'loss': 6.7156243324279785}\n",
            "{'epoch': 2, 'batch': 170, 'loss': 6.1872100830078125}\n",
            "{'epoch': 2, 'batch': 180, 'loss': 6.166854381561279}\n",
            "{'epoch': 2, 'batch': 190, 'loss': 6.446720600128174}\n",
            "{'epoch': 2, 'batch': 200, 'loss': 6.265746593475342}\n",
            "{'epoch': 2, 'batch': 210, 'loss': 7.844844818115234}\n",
            "{'epoch': 3, 'batch': 0, 'loss': 6.574590682983398}\n",
            "Prompt Text = watson what are you\n",
            "-------------------------\n",
            "Generated Text -> \n",
            "\n",
            "watson what are you belongs.” hat-securer. strength gravesend him upon which back in labour\n",
            "{'epoch': 3, 'batch': 10, 'loss': 6.421896457672119}\n",
            "{'epoch': 3, 'batch': 20, 'loss': 6.315507888793945}\n",
            "{'epoch': 3, 'batch': 30, 'loss': 6.47813606262207}\n",
            "{'epoch': 3, 'batch': 40, 'loss': 6.077249526977539}\n",
            "{'epoch': 3, 'batch': 50, 'loss': 6.201838493347168}\n",
            "{'epoch': 3, 'batch': 60, 'loss': 6.408924579620361}\n",
            "{'epoch': 3, 'batch': 70, 'loss': 6.204100131988525}\n",
            "{'epoch': 3, 'batch': 80, 'loss': 6.416218280792236}\n",
            "{'epoch': 3, 'batch': 90, 'loss': 6.098390579223633}\n",
            "{'epoch': 3, 'batch': 100, 'loss': 6.377357006072998}\n",
            "{'epoch': 3, 'batch': 110, 'loss': 6.240055084228516}\n",
            "{'epoch': 3, 'batch': 120, 'loss': 6.401352405548096}\n",
            "Prompt Text = watson what are you\n",
            "-------------------------\n",
            "Generated Text -> \n",
            "\n",
            "watson what are you thief; her 1.f.3. by anything and to-night. accustomed. down and\n",
            "{'epoch': 3, 'batch': 130, 'loss': 6.367753505706787}\n",
            "{'epoch': 3, 'batch': 140, 'loss': 6.139619827270508}\n",
            "{'epoch': 3, 'batch': 150, 'loss': 6.431540012359619}\n",
            "{'epoch': 3, 'batch': 160, 'loss': 6.525717258453369}\n",
            "{'epoch': 3, 'batch': 170, 'loss': 5.9888739585876465}\n",
            "{'epoch': 3, 'batch': 180, 'loss': 5.9702372550964355}\n",
            "{'epoch': 3, 'batch': 190, 'loss': 6.257483005523682}\n",
            "{'epoch': 3, 'batch': 200, 'loss': 6.059774875640869}\n",
            "{'epoch': 3, 'batch': 210, 'loss': 7.584163188934326}\n",
            "{'epoch': 4, 'batch': 0, 'loss': 6.401044845581055}\n",
            "Prompt Text = watson what are you\n",
            "-------------------------\n",
            "Generated Text -> \n",
            "\n",
            "watson what are you way. 250 until gave look by the face to so\n",
            "{'epoch': 4, 'batch': 10, 'loss': 6.21469783782959}\n",
            "{'epoch': 4, 'batch': 20, 'loss': 6.138566493988037}\n",
            "{'epoch': 4, 'batch': 30, 'loss': 6.297709941864014}\n",
            "{'epoch': 4, 'batch': 40, 'loss': 5.905426025390625}\n",
            "{'epoch': 4, 'batch': 50, 'loss': 6.036672592163086}\n",
            "{'epoch': 4, 'batch': 60, 'loss': 6.270413398742676}\n",
            "{'epoch': 4, 'batch': 70, 'loss': 6.041585922241211}\n",
            "{'epoch': 4, 'batch': 80, 'loss': 6.2274088859558105}\n",
            "{'epoch': 4, 'batch': 90, 'loss': 5.9231696128845215}\n",
            "{'epoch': 4, 'batch': 100, 'loss': 6.194990158081055}\n",
            "{'epoch': 4, 'batch': 110, 'loss': 6.0568695068359375}\n",
            "{'epoch': 4, 'batch': 120, 'loss': 6.2490644454956055}\n",
            "Prompt Text = watson what are you\n",
            "-------------------------\n",
            "Generated Text -> \n",
            "\n",
            "watson what are you spring played lived home have male tut mr. outside my\n",
            "{'epoch': 4, 'batch': 130, 'loss': 6.183070659637451}\n",
            "{'epoch': 4, 'batch': 140, 'loss': 5.973109245300293}\n",
            "{'epoch': 4, 'batch': 150, 'loss': 6.287683486938477}\n",
            "{'epoch': 4, 'batch': 160, 'loss': 6.347651958465576}\n",
            "{'epoch': 4, 'batch': 170, 'loss': 5.811702728271484}\n",
            "{'epoch': 4, 'batch': 180, 'loss': 5.797962188720703}\n",
            "{'epoch': 4, 'batch': 190, 'loss': 6.089635848999023}\n",
            "{'epoch': 4, 'batch': 200, 'loss': 5.874917984008789}\n",
            "{'epoch': 4, 'batch': 210, 'loss': 7.381359100341797}\n"
          ]
        }
      ],
      "source": [
        "params['max_epochs'] = 5\n",
        "params['batch_size'] = 512\n",
        "\n",
        "model_loss = train(dataset, model, params)"
      ]
    },
    {
      "cell_type": "code",
      "execution_count": 33,
      "metadata": {
        "id": "bhQAFZBycXgI"
      },
      "outputs": [],
      "source": [
        "import seaborn as sns\n",
        "from matplotlib import pyplot as plt"
      ]
    },
    {
      "cell_type": "code",
      "execution_count": 34,
      "metadata": {
        "colab": {
          "base_uri": "https://localhost:8080/",
          "height": 490
        },
        "id": "G5V9_ThpfbqM",
        "outputId": "9d845908-07f3-477d-a43d-2390be9dfee9"
      },
      "outputs": [
        {
          "data": {
            "text/plain": [
              "Text(0.5, 0, 'epochs')"
            ]
          },
          "execution_count": 34,
          "metadata": {},
          "output_type": "execute_result"
        },
        {
          "data": {
            "image/png": "[encoded data removed]",
            "text/plain": [
              "<Figure size 640x480 with 1 Axes>"
            ]
          },
          "metadata": {},
          "output_type": "display_data"
        }
      ],
      "source": [
        "sns.lineplot(\n",
        "    y=model_loss,\n",
        "    x=range(len(model_loss))\n",
        ")\n",
        "plt.title(\"Model Loss\")\n",
        "plt.ylabel(\"loss\")\n",
        "plt.xlabel(\"epochs\")"
      ]
    },
    {
      "cell_type": "code",
      "execution_count": 46,
      "metadata": {
        "colab": {
          "base_uri": "https://localhost:8080/"
        },
        "id": "cUWjyPvifsgB",
        "outputId": "d839e345-e933-44bf-ce27-36421a5ceca6"
      },
      "outputs": [
        {
          "name": "stdout",
          "output_type": "stream",
          "text": [
            "Prompt Text = i am writing this prompt\n",
            "-------------------------\n",
            "Generated Text -> \n",
            "\n",
            "i am writing this prompt abruptly; array take?” approach result yourself she would in an morning was and at the course and not “‘do in the laid and there was\n"
          ]
        }
      ],
      "source": [
        "print(' '.join(generate_text(dataset, model, prompt_text='i am writing this prompt', next_words=25)))"
      ]
    },
    {
      "cell_type": "markdown",
      "metadata": {},
      "source": [
        "## Decoding Strategies\n",
        "\n",
        "The ``generate_text`` utility we used above used every output prediction as input for the next time step. This method of using the highest probability prediction as output is called __Greedy Decoding__. Greeding decoding is fast and simple but is marred with issues we saw in samples we just generated.\n",
        "\n",
        "Focusing on only highest probability output narrows our model's focus to just the next step which inturn may result in inconsistent or non-dictionary terms/words.\n",
        "\n",
        "### Beam Search\n",
        "Beam search is the obvious next step to improve the output predictions from the model. Instead of being greedy, beam search keeps track of n paths at any given time and selects the path with overall higher probability.\n",
        "\n",
        "<img src=\"../../assets/module_2/beamsearch_nb_2.png\">\n",
        "\n",
        "### Other Key Decoding Strategies:\n",
        "- Sampling\n",
        "- Top-k Sampling\n",
        "- Nucleus Sampling\n",
        "\n",
        "### Temperature\n",
        "Though sampling helps bring in required amount of randomness, it is not free from issues. Random sampling leads to gibberish and incoherence at times. To control the amount of randomness, we introduce __temperature__. This parameter helps increase the likelihood of high probability terms reduce the likelihood of low probability ones. This leads to sharper distributions. \n",
        "\n",
        "> High temperature leads to more randomness while lower temperature brings in predictability.\n"
      ]
    },
    {
      "cell_type": "markdown",
      "metadata": {},
      "source": [
        "### The RNN Limitation\n",
        "The RNN layer (LSTM, or GRU, etc.) takes in a context window of a defined size as input and encodes all of it into a single vector. This bottleneck vector needs to capture a lot of information in itself before the decoding stage can use it to start generating the next token.\n",
        "\n",
        "## Attention is All You Need\n",
        "\n",
        "<img src=\"../../assets/module_1/transformer_notebook_1.jpg\">\n",
        "\n",
        "\n",
        "### Attention to the Rescue\n",
        "Attention is one of the most powerful concepts in the deep learning space that really changed the game. The core idea behind the attention mechanism is to make use of all interim hidden states of the RNN to decide which one to focus upon before it is used by the decoding stage. \n",
        "\n",
        "### Contextual Embeddings\n",
        "The [TagLM architecture by Peters et al. in 2017](https://arxiv.org/abs/1705.00108) was one of the first works that provided an insight into how we could combine __pre-trained word embeddings__ with a __pre-trained neural language model__ to generate __context-aware embeddings__ for downstream NLP tasks.\n",
        "\n",
        "The big breakthrough that changed the NLP landscape came in the form of __ELMo, or Embeddings from Language Models__. The ELMo architecture was presented by Peters et al. in their work titled [__Deep Contextualized Word Representations in 2018__](https://arxiv.org/abs/1802.05365). Without going into too much detail, the main highlights of the ELMo architecture were:\n",
        "\n",
        "- The model used a bi-LSTM-based language model.\n",
        "- Character CNNs were used to generate embeddings, in place of pre-trained word vectors, which made use of huge 4096 LSTM units but transformed into smaller 512-sized vectors using feedforward layers.\n",
        "- The main innovation was to make use of all the hidden bi-LSTM layers for generating input representation. Unlike previous works, where only the final LSTM layer was used to fetch the representation of the input, this work took a weighted average of all the hidden layers' hidden states. This helped the model learn contextual word embeddings where each layer contributed to things like syntax and semantics.\n",
        "\n",
        "## Self-Attention\n",
        "- Self-attention was proposed by Cheng et al. in their paper titled Long Short-Term Memory Networks for Machine Reading in 2016\n",
        "- Self-attention enables a model to learn the correlation between the current token (character or word or sentence, etc.) and its context window. In other words, it is an attention mechanism that relates different positions of a given sequence so as to generate a representation of the same sequence\n",
        "\n",
        "## Transformers\n",
        "- The transformer architecture was presented in the seminal paper __Attention is All You Need__ by Vaswani et al. back in 2017\n",
        "- A transformer is a __recurrence-__ and __convolution-free__ attention-based encoder-decoder architecture\n",
        "- Introduced the concept of multi-head attention and positional encodings\n",
        "- Also revolutionalised Computer Vision domain (see ViT)\n",
        "\n",
        "\n",
        "<img src=\"../../assets/module_1/transformer_arch_notebook_1.png\">\n",
        "\n",
        "\n",
        "## BERT-ology\n",
        "- BERT, or __[Bi-Directional Encoder Representations from Transformers](https://arxiv.org/abs/1810.04805)__, was presented by Devlin et al., a team at Google AI in 2018\n",
        "- Multi-task Learning: BERT also helped push the transfer-learning envelope in the NLP domain by showcasing how a pre-trained model can be fine-tuned for various tasks to provide state-of-the-art performance\n",
        "- BERT tweaked the usual Language Model objective to only predict next token based on past context by building context from both directions, i.e. the objective of predicting masked words along with next sentence prediction.\n",
        "\n",
        "\n",
        "<img src=\"../../assets/module_1/bert_models_layout_notebook_1.jpeg\">\n",
        "\n",
        "> source [PLM Papers](https://github.com/thunlp/PLMpapers)\n",
        "\n"
      ]
    },
    {
      "cell_type": "markdown",
      "metadata": {},
      "source": []
    }
  ],
  "metadata": {
    "accelerator": "GPU",
    "colab": {
      "gpuType": "T4",
      "provenance": []
    },
    "kernelspec": {
      "display_name": "Python 3",
      "name": "python3"
    },
    "language_info": {
      "name": "python"
    }
  },
  "nbformat": 4,
  "nbformat_minor": 0
}
