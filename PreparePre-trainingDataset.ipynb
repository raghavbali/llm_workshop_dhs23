{
 "cells": [
  {
   "cell_type": "code",
   "execution_count": 1,
   "id": "bc0b14a0",
   "metadata": {},
   "outputs": [],
   "source": [
    "import os,time,math,pickle,random\n",
    "import numpy as np,pandas as pd"
   ]
  },
  {
   "cell_type": "code",
   "execution_count": 2,
   "id": "10b47e14",
   "metadata": {},
   "outputs": [],
   "source": [
    "out_dir = 'temp'\n",
    "os.makedirs(out_dir, exist_ok=True)"
   ]
  },
  {
   "cell_type": "code",
   "execution_count": 3,
   "id": "80270a78",
   "metadata": {},
   "outputs": [
    {
     "name": "stdout",
     "output_type": "stream",
     "text": [
      "length of dataset in characters = 1585221\n"
     ]
    }
   ],
   "source": [
    "data_path=\"/Users/amarlalwani/Desktop/nlp/lm/data/names/\"\n",
    "df=pd.read_csv(data_path+\"dataset.csv\")\n",
    "df.dropna(inplace=True)\n",
    "df[\"length\"]=df[\"name\"].apply(lambda x:len(x))\n",
    "names=df[(df[\"nametype\"]==\"firstname\")&(df[\"length\"]<15)][\"name\"].tolist()\n",
    "print(\"length of dataset in characters =\",sum([len(x) for x in names]))"
   ]
  },
  {
   "cell_type": "code",
   "execution_count": 4,
   "id": "47de63da",
   "metadata": {},
   "outputs": [
    {
     "name": "stdout",
     "output_type": "stream",
     "text": [
      "all the unique characters: |abcdefghijklmnopqrstuvwxyz*=ABCDEFGHIJKLMNOPQRSTUVWXYZ\n",
      "vocab size: 55\n"
     ]
    }
   ],
   "source": [
    "chars=set()\n",
    "for name in names:\n",
    "    chars.update(list(name))\n",
    "chars=sorted(list(chars))\n",
    "chars=[\"|\"]+chars+[\"*\",\"=\"]+[char.upper() for char in chars]\n",
    "vocab_size = len(chars)\n",
    "print(\"all the unique characters:\", ''.join(chars))\n",
    "print(f\"vocab size: {vocab_size:,}\")\n",
    "\n",
    "stoi = { ch:i for i,ch in enumerate(chars) }\n",
    "itos = { i:ch for i,ch in enumerate(chars) }\n",
    "def encode(s):\n",
    "    return [stoi[c] for c in s]\n",
    "def decode(l):\n",
    "    return ''.join([itos[i] for i in l])"
   ]
  },
  {
   "cell_type": "code",
   "execution_count": 5,
   "id": "85bc7e12",
   "metadata": {},
   "outputs": [],
   "source": [
    "train_names=[]\n",
    "val_names=[]\n",
    "for name in names:\n",
    "    if random.random()<0.9:\n",
    "        train_names.append(\"|\"+name+\"|\")\n",
    "    else:\n",
    "        val_names.append(\"|\"+name+\"|\")"
   ]
  },
  {
   "cell_type": "code",
   "execution_count": 6,
   "id": "24d9ca03",
   "metadata": {},
   "outputs": [],
   "source": [
    "fp=open(os.path.join(out_dir, 'train.bin'),\"w\")\n",
    "fp.write(\"\\n\".join(train_names)+\"\\n\")\n",
    "fp.close()\n",
    "fp=open(os.path.join(out_dir, 'val.bin'),\"w\")\n",
    "fp.write(\"\\n\".join(val_names)+\"\\n\")\n",
    "fp.close()\n",
    "\n",
    "meta = {\n",
    "    'vocab_size': vocab_size,\n",
    "    'itos': itos,\n",
    "    'stoi': stoi,\n",
    "}\n",
    "with open(os.path.join(out_dir, 'meta.pkl'), 'wb') as f:\n",
    "    pickle.dump(meta, f)"
   ]
  },
  {
   "cell_type": "code",
   "execution_count": null,
   "id": "af3427ac",
   "metadata": {},
   "outputs": [],
   "source": []
  }
 ],
 "metadata": {
  "kernelspec": {
   "display_name": "Python 3 (ipykernel)",
   "language": "python",
   "name": "python3"
  },
  "language_info": {
   "codemirror_mode": {
    "name": "ipython",
    "version": 3
   },
   "file_extension": ".py",
   "mimetype": "text/x-python",
   "name": "python",
   "nbconvert_exporter": "python",
   "pygments_lexer": "ipython3",
   "version": "3.10.8"
  }
 },
 "nbformat": 4,
 "nbformat_minor": 5
}
