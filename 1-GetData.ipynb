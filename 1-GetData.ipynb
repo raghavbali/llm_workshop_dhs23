{
 "cells": [
  {
   "cell_type": "code",
   "execution_count": 1,
   "id": "6c3930b6",
   "metadata": {},
   "outputs": [],
   "source": [
    "from names_dataset import NameDataset, NameWrapper\n",
    "import tqdm\n",
    "import pandas as pd"
   ]
  },
  {
   "cell_type": "code",
   "execution_count": 2,
   "id": "2a288ac9",
   "metadata": {},
   "outputs": [],
   "source": [
    "nd = NameDataset()"
   ]
  },
  {
   "cell_type": "code",
   "execution_count": 3,
   "id": "bb165b93",
   "metadata": {},
   "outputs": [],
   "source": [
    "countries=nd.get_country_codes(alpha_2=False)"
   ]
  },
  {
   "cell_type": "code",
   "execution_count": 4,
   "id": "b2461b8c",
   "metadata": {},
   "outputs": [
    {
     "name": "stderr",
     "output_type": "stream",
     "text": [
      "100%|██████████| 105/105 [01:02<00:00,  1.68it/s]\n"
     ]
    }
   ],
   "source": [
    "data={}\n",
    "with tqdm.tqdm(total=len(countries)) as pbar:\n",
    "    for country in countries:\n",
    "        data[country.name]=[]\n",
    "        temp=nd.get_top_names(n=100000,use_first_names=True,gender=\"M\",country_alpha2=country.alpha_2)\n",
    "        data[country.name].append(temp[country.alpha_2][\"M\"])\n",
    "        temp=nd.get_top_names(n=100000,use_first_names=True,gender=\"F\",country_alpha2=country.alpha_2)\n",
    "        data[country.name].append(temp[country.alpha_2][\"F\"])\n",
    "        temp=nd.get_top_names(n=100000,use_first_names=False,country_alpha2=country.alpha_2)\n",
    "        data[country.name].append(temp[country.alpha_2])\n",
    "        pbar.update(1)"
   ]
  },
  {
   "cell_type": "code",
   "execution_count": 5,
   "id": "b5db9e8e",
   "metadata": {},
   "outputs": [],
   "source": [
    "country_names={\n",
    "    \"India\":\"india\",\n",
    "    \"United States\":\"usa\",\n",
    "    \"United Kingdom\":\"uk\",\n",
    "    \"Nigeria\":\"nigeria\",\n",
    "    \"United Arab Emirates\":\"uae\",\n",
    "    \"Morocco\":\"morocco\",\n",
    "    \"Netherlands\":\"netherlands\",\n",
    "    \"Peru\":\"peru\",\n",
    "    \"Germany\":\"germany\",\n",
    "    \"France\":\"france\",\n",
    "    \"Italy\":\"italy\",\n",
    "    \"Bangladesh\":\"bangladesh\",\n",
    "    \"Singapore\":\"singapore\",\n",
    "    \"Hong Kong\":\"hongkong\",\n",
    "    \"South Africa\":\"southafrica\",\n",
    "    \"Spain\":\"spain\",\n",
    "    \"Mexico\":\"mexico\",\n",
    "    \"Malaysia\":\"malaysia\",\n",
    "    \"Canada\":\"canada\",\n",
    "    \"Indonesia\":\"indonesia\"\n",
    "}"
   ]
  },
  {
   "cell_type": "code",
   "execution_count": 6,
   "id": "b9cab1c6",
   "metadata": {},
   "outputs": [],
   "source": [
    "dataset=[]\n",
    "for country in country_names:\n",
    "    for name in data[country][0]:\n",
    "        if name.isascii() and name.isalpha() and len(name)>0:\n",
    "            dataset.append([country_names[country],\"firstname\",\"male\",name.lower()])\n",
    "    for name in data[country][1]:\n",
    "        if name.isascii() and name.isalpha() and len(name)>0:\n",
    "            dataset.append([country_names[country],\"firstname\",\"female\",name.lower()])\n",
    "    for name in data[country][0]:\n",
    "        if name.isascii() and name.isalpha() and len(name)>0:\n",
    "            dataset.append([country_names[country],\"lastname\",\"neutral\",name.lower()])"
   ]
  },
  {
   "cell_type": "code",
   "execution_count": 7,
   "id": "7952b98a",
   "metadata": {},
   "outputs": [],
   "source": [
    "df=pd.DataFrame(dataset,columns=[\"country\",\"nametype\",\"gender\",\"name\"])\n",
    "df.to_csv(\"dataset.csv\",index=False)"
   ]
  },
  {
   "cell_type": "code",
   "execution_count": null,
   "id": "b6f0381f",
   "metadata": {},
   "outputs": [],
   "source": []
  }
 ],
 "metadata": {
  "kernelspec": {
   "display_name": "Python 3 (ipykernel)",
   "language": "python",
   "name": "python3"
  },
  "language_info": {
   "codemirror_mode": {
    "name": "ipython",
    "version": 3
   },
   "file_extension": ".py",
   "mimetype": "text/x-python",
   "name": "python",
   "nbconvert_exporter": "python",
   "pygments_lexer": "ipython3",
   "version": "3.10.8"
  }
 },
 "nbformat": 4,
 "nbformat_minor": 5
}
