{
 "cells": [
  {
   "cell_type": "markdown",
   "id": "dc72fe62",
   "metadata": {},
   "source": [
    "# We use names-dataset python package to get country-wise popular names. The package uses the massive Facebook dump of 533M users."
   ]
  },
  {
   "cell_type": "code",
   "execution_count": 1,
   "id": "6c3930b6",
   "metadata": {},
   "outputs": [],
   "source": [
    "from names_dataset import NameDataset\n",
    "import tqdm, os\n",
    "import pandas as pd"
   ]
  },
  {
   "cell_type": "code",
   "execution_count": 2,
   "id": "822343a1",
   "metadata": {},
   "outputs": [],
   "source": [
    "DATA_DIR = \"data/\""
   ]
  },
  {
   "cell_type": "code",
   "execution_count": 3,
   "id": "2a288ac9",
   "metadata": {},
   "outputs": [],
   "source": [
    "nd = NameDataset()"
   ]
  },
  {
   "cell_type": "code",
   "execution_count": 4,
   "id": "bb165b93",
   "metadata": {},
   "outputs": [],
   "source": [
    "countries = nd.get_country_codes(alpha_2=False)"
   ]
  },
  {
   "cell_type": "markdown",
   "id": "61711abe",
   "metadata": {},
   "source": [
    "Fetching lastnames and gender-wise firstnames for each country"
   ]
  },
  {
   "cell_type": "code",
   "execution_count": 5,
   "id": "b2461b8c",
   "metadata": {},
   "outputs": [
    {
     "name": "stderr",
     "output_type": "stream",
     "text": [
      "100%|██████████| 105/105 [01:02<00:00,  1.68it/s]\n"
     ]
    }
   ],
   "source": [
    "data = {}\n",
    "with tqdm.tqdm(total=len(countries)) as pbar:\n",
    "    for country in countries:\n",
    "        data[country.name] = []\n",
    "        temp = nd.get_top_names(\n",
    "            n=100000, use_first_names=True, gender=\"M\", country_alpha2=country.alpha_2\n",
    "        )\n",
    "        data[country.name].append(temp[country.alpha_2][\"M\"])\n",
    "        temp = nd.get_top_names(\n",
    "            n=100000, use_first_names=True, gender=\"F\", country_alpha2=country.alpha_2\n",
    "        )\n",
    "        data[country.name].append(temp[country.alpha_2][\"F\"])\n",
    "        temp = nd.get_top_names(\n",
    "            n=100000, use_first_names=False, country_alpha2=country.alpha_2\n",
    "        )\n",
    "        data[country.name].append(temp[country.alpha_2])\n",
    "        pbar.update(1)"
   ]
  },
  {
   "cell_type": "markdown",
   "id": "33b0499c",
   "metadata": {},
   "source": [
    "Let us focus on the following countries only"
   ]
  },
  {
   "cell_type": "code",
   "execution_count": 6,
   "id": "b5db9e8e",
   "metadata": {},
   "outputs": [],
   "source": [
    "country_names = {\n",
    "    \"India\": \"india\",\n",
    "    \"United States\": \"usa\",\n",
    "    \"United Kingdom\": \"uk\",\n",
    "    \"Nigeria\": \"nigeria\",\n",
    "    \"United Arab Emirates\": \"uae\",\n",
    "    \"Morocco\": \"morocco\",\n",
    "    \"Netherlands\": \"netherlands\",\n",
    "    \"Peru\": \"peru\",\n",
    "    \"Germany\": \"germany\",\n",
    "    \"France\": \"france\",\n",
    "    \"Italy\": \"italy\",\n",
    "    \"Bangladesh\": \"bangladesh\",\n",
    "    \"Singapore\": \"singapore\",\n",
    "    \"Hong Kong\": \"hongkong\",\n",
    "    \"South Africa\": \"southafrica\",\n",
    "    \"Spain\": \"spain\",\n",
    "    \"Mexico\": \"mexico\",\n",
    "    \"Malaysia\": \"malaysia\",\n",
    "    \"Canada\": \"canada\",\n",
    "    \"Indonesia\": \"indonesia\",\n",
    "}"
   ]
  },
  {
   "cell_type": "markdown",
   "id": "caef5742",
   "metadata": {},
   "source": [
    "We only want to use the names which contain only the english characters: a-z"
   ]
  },
  {
   "cell_type": "code",
   "execution_count": 7,
   "id": "b9cab1c6",
   "metadata": {},
   "outputs": [],
   "source": [
    "dataset = []\n",
    "for country in country_names:\n",
    "    for name in data[country][0]:\n",
    "        if name.isascii() and name.isalpha() and len(name) > 0:\n",
    "            dataset.append([country_names[country], \"firstname\", \"male\", name.lower()])\n",
    "    for name in data[country][1]:\n",
    "        if name.isascii() and name.isalpha() and len(name) > 0:\n",
    "            dataset.append(\n",
    "                [country_names[country], \"firstname\", \"female\", name.lower()]\n",
    "            )\n",
    "    for name in data[country][0]:\n",
    "        if name.isascii() and name.isalpha() and len(name) > 0:\n",
    "            dataset.append(\n",
    "                [country_names[country], \"lastname\", \"neutral\", name.lower()]\n",
    "            )"
   ]
  },
  {
   "cell_type": "code",
   "execution_count": 8,
   "id": "7952b98a",
   "metadata": {},
   "outputs": [
    {
     "data": {
      "text/html": [
       "<div>\n",
       "<style scoped>\n",
       "    .dataframe tbody tr th:only-of-type {\n",
       "        vertical-align: middle;\n",
       "    }\n",
       "\n",
       "    .dataframe tbody tr th {\n",
       "        vertical-align: top;\n",
       "    }\n",
       "\n",
       "    .dataframe thead th {\n",
       "        text-align: right;\n",
       "    }\n",
       "</style>\n",
       "<table border=\"1\" class=\"dataframe\">\n",
       "  <thead>\n",
       "    <tr style=\"text-align: right;\">\n",
       "      <th></th>\n",
       "      <th>country</th>\n",
       "      <th>nametype</th>\n",
       "      <th>gender</th>\n",
       "      <th>name</th>\n",
       "    </tr>\n",
       "  </thead>\n",
       "  <tbody>\n",
       "    <tr>\n",
       "      <th>0</th>\n",
       "      <td>india</td>\n",
       "      <td>firstname</td>\n",
       "      <td>male</td>\n",
       "      <td>rahul</td>\n",
       "    </tr>\n",
       "    <tr>\n",
       "      <th>1</th>\n",
       "      <td>india</td>\n",
       "      <td>firstname</td>\n",
       "      <td>male</td>\n",
       "      <td>md</td>\n",
       "    </tr>\n",
       "    <tr>\n",
       "      <th>2</th>\n",
       "      <td>india</td>\n",
       "      <td>firstname</td>\n",
       "      <td>male</td>\n",
       "      <td>ajay</td>\n",
       "    </tr>\n",
       "    <tr>\n",
       "      <th>3</th>\n",
       "      <td>india</td>\n",
       "      <td>firstname</td>\n",
       "      <td>male</td>\n",
       "      <td>sanjay</td>\n",
       "    </tr>\n",
       "    <tr>\n",
       "      <th>4</th>\n",
       "      <td>india</td>\n",
       "      <td>firstname</td>\n",
       "      <td>male</td>\n",
       "      <td>sunil</td>\n",
       "    </tr>\n",
       "    <tr>\n",
       "      <th>...</th>\n",
       "      <td>...</td>\n",
       "      <td>...</td>\n",
       "      <td>...</td>\n",
       "      <td>...</td>\n",
       "    </tr>\n",
       "    <tr>\n",
       "      <th>419413</th>\n",
       "      <td>indonesia</td>\n",
       "      <td>lastname</td>\n",
       "      <td>neutral</td>\n",
       "      <td>mukhit</td>\n",
       "    </tr>\n",
       "    <tr>\n",
       "      <th>419414</th>\n",
       "      <td>indonesia</td>\n",
       "      <td>lastname</td>\n",
       "      <td>neutral</td>\n",
       "      <td>muaffaq</td>\n",
       "    </tr>\n",
       "    <tr>\n",
       "      <th>419415</th>\n",
       "      <td>indonesia</td>\n",
       "      <td>lastname</td>\n",
       "      <td>neutral</td>\n",
       "      <td>thesar</td>\n",
       "    </tr>\n",
       "    <tr>\n",
       "      <th>419416</th>\n",
       "      <td>indonesia</td>\n",
       "      <td>lastname</td>\n",
       "      <td>neutral</td>\n",
       "      <td>kharismawan</td>\n",
       "    </tr>\n",
       "    <tr>\n",
       "      <th>419417</th>\n",
       "      <td>indonesia</td>\n",
       "      <td>lastname</td>\n",
       "      <td>neutral</td>\n",
       "      <td>audiotech</td>\n",
       "    </tr>\n",
       "  </tbody>\n",
       "</table>\n",
       "<p>419418 rows × 4 columns</p>\n",
       "</div>"
      ],
      "text/plain": [
       "          country   nametype   gender         name\n",
       "0           india  firstname     male        rahul\n",
       "1           india  firstname     male           md\n",
       "2           india  firstname     male         ajay\n",
       "3           india  firstname     male       sanjay\n",
       "4           india  firstname     male        sunil\n",
       "...           ...        ...      ...          ...\n",
       "419413  indonesia   lastname  neutral       mukhit\n",
       "419414  indonesia   lastname  neutral      muaffaq\n",
       "419415  indonesia   lastname  neutral       thesar\n",
       "419416  indonesia   lastname  neutral  kharismawan\n",
       "419417  indonesia   lastname  neutral    audiotech\n",
       "\n",
       "[419418 rows x 4 columns]"
      ]
     },
     "execution_count": 8,
     "metadata": {},
     "output_type": "execute_result"
    }
   ],
   "source": [
    "df = pd.DataFrame(dataset, columns=[\"country\", \"nametype\", \"gender\", \"name\"])\n",
    "df.to_csv(DATA_DIR + \"dataset.csv\", index=False)\n",
    "df"
   ]
  },
  {
   "cell_type": "code",
   "execution_count": null,
   "id": "b6f0381f",
   "metadata": {},
   "outputs": [],
   "source": []
  }
 ],
 "metadata": {
  "kernelspec": {
   "display_name": "Python 3 (ipykernel)",
   "language": "python",
   "name": "python3"
  },
  "language_info": {
   "codemirror_mode": {
    "name": "ipython",
    "version": 3
   },
   "file_extension": ".py",
   "mimetype": "text/x-python",
   "name": "python",
   "nbconvert_exporter": "python",
   "pygments_lexer": "ipython3",
   "version": "3.10.8"
  }
 },
 "nbformat": 4,
 "nbformat_minor": 5
}
