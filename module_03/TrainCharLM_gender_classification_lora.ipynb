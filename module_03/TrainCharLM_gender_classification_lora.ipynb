{
 "cells": [
  {
   "cell_type": "markdown",
   "id": "3a28bc7c",
   "metadata": {},
   "source": [
    "# Training of character level language model for names"
   ]
  },
  {
   "cell_type": "code",
   "execution_count": null,
   "id": "06d42342",
   "metadata": {},
   "outputs": [],
   "source": [
    "import os, time, math, pickle\n",
    "import numpy as np, pandas as pd\n",
    "from contextlib import nullcontext\n",
    "import torch\n",
    "from model_exercise4_solution import GPT"
   ]
  },
  {
   "cell_type": "code",
   "execution_count": null,
   "id": "aeb047db",
   "metadata": {},
   "outputs": [],
   "source": [
    "pre_training = False  # specifies if its pre-training or fine-tuning\n",
    "from_scratch = (\n",
    "    True  # specifies if we resuming from a checkpoint or training from scratch\n",
    ")\n",
    "task = \"gender_classification\"  # name of task in case of fine-tuning. used to understand type of task and read its dataset\n",
    "prompt_vocab_size = 0  # prompt-tuning. Supports only one task\n",
    "classification_task = \"classification\" in task\n",
    "always_save_checkpoint = (\n",
    "    False  # if True, we update the checkpoint after each training iteration\n",
    ")\n",
    "eval_only = False  # if True, only evaluation and no training"
   ]
  },
  {
   "cell_type": "code",
   "execution_count": null,
   "id": "e19b952f",
   "metadata": {},
   "outputs": [],
   "source": [
    "DATA_DIR = \"data/\"\n",
    "MODEL_DIR = \"models/\"\n",
    "IN_CHECKPOINT = \"base.pt\"  # checkpoint to load the model from\n",
    "OUT_CHECKPOINT = \"gender_classification_lora_1.pt\"  # checkpoint to write the model to"
   ]
  },
  {
   "cell_type": "code",
   "execution_count": null,
   "id": "cc21f68d",
   "metadata": {},
   "outputs": [],
   "source": [
    "if pre_training:\n",
    "    print(\"loading pre-training dataset\")\n",
    "    train_names = pd.read_csv(DATA_DIR + \"train.bin\")[[\"name\"]].values.tolist()\n",
    "    val_names = pd.read_csv(DATA_DIR + \"val.bin\")[[\"name\"]].values.tolist()\n",
    "else:\n",
    "    print(\"loading dataset for task:\", task)\n",
    "    train_names = pd.read_csv(DATA_DIR + task + \"_train.bin\").values.tolist()\n",
    "    val_names = pd.read_csv(DATA_DIR + task + \"_val.bin\").values.tolist()"
   ]
  },
  {
   "cell_type": "code",
   "execution_count": null,
   "id": "66a7a590",
   "metadata": {},
   "outputs": [],
   "source": [
    "with open(DATA_DIR + \"meta.pkl\", \"rb\") as f:\n",
    "    meta = pickle.load(f)\n",
    "stoi, itos, vocab_size = meta[\"stoi\"], meta[\"itos\"], meta[\"vocab_size\"]\n",
    "encode = lambda s: [stoi[c] for c in s]\n",
    "decode = lambda l: \"\".join([itos[i] for i in l])\n",
    "print(\"vocab size:\", vocab_size)"
   ]
  },
  {
   "cell_type": "code",
   "execution_count": null,
   "id": "756f0eb4",
   "metadata": {},
   "outputs": [],
   "source": [
    "device = [\"mps\", \"cpu\", \"cuda\"][0]\n",
    "device = \"cuda\" if torch.cuda.is_available() else \"cpu\"\n",
    "print(\"device =\", device)"
   ]
  },
  {
   "cell_type": "code",
   "execution_count": null,
   "id": "619a8c76",
   "metadata": {},
   "outputs": [],
   "source": [
    "compile = False\n",
    "if device == \"cuda\":\n",
    "    compile = True\n",
    "    torch.backends.cuda.matmul.allow_tf32 = True  # allow tf32 on matmul\n",
    "    torch.backends.cudnn.allow_tf32 = True  # allow tf32 on cudnn\n",
    "    if torch.cuda.is_bf16_supported():\n",
    "        # automatically chooses appropriate precision for operations\n",
    "        ctx = torch.amp.autocast(device_type=device, dtype=torch.bfloat16)\n",
    "        # gradient scaler disabled in case of bfloat16\n",
    "        scaler = torch.cuda.amp.GradScaler(enabled=False)\n",
    "    else:\n",
    "        ctx = torch.amp.autocast(device_type=device, dtype=torch.float16)\n",
    "        # gradient scaler disabled in case of bfoat16\n",
    "        scaler = torch.cuda.amp.GradScaler(enabled=True)\n",
    "else:\n",
    "    ctx = nullcontext()\n",
    "    # gradient scaling disabled in case of devices other than cuda. No-op in that case\n",
    "    scaler = torch.cuda.amp.GradScaler(enabled=False)"
   ]
  },
  {
   "cell_type": "markdown",
   "id": "a03b24ff",
   "metadata": {
    "slideshow": {
     "slide_type": "slide"
    }
   },
   "source": [
    "<img src=\"../assets/module_3/floating_point_numbers.png\">\n",
    "\n",
    "source: https://cloud.google.com/tpu/docs/bfloat16"
   ]
  },
  {
   "cell_type": "markdown",
   "id": "f496271b",
   "metadata": {
    "slideshow": {
     "slide_type": "slide"
    }
   },
   "source": [
    "<img src=\"../assets/module_3/gradient_scaling.png\">\n",
    "\n",
    "source: https://pytorch.org/docs/stable/amp.html"
   ]
  },
  {
   "cell_type": "markdown",
   "id": "55ee3b7f",
   "metadata": {
    "slideshow": {
     "slide_type": "slide"
    }
   },
   "source": [
    "## Mixed Precision Training\n",
    "\n",
    "<img src=\"../assets/module_3/mixed_precision.png\">\n",
    "\n",
    "source: https://hackernoon.com/rtx-2080ti-vs-gtx-1080ti-fastai-mixed-precision-training-comparisons-on-cifar-100-761d8f615d7f"
   ]
  },
  {
   "cell_type": "code",
   "execution_count": null,
   "id": "9dc122c3",
   "metadata": {},
   "outputs": [],
   "source": [
    "if not pre_training and from_scratch:\n",
    "    print(\"loading pre-trained model\")\n",
    "    checkpoint = torch.load(MODEL_DIR + IN_CHECKPOINT, map_location=device)\n",
    "    config = checkpoint[\"config\"]\n",
    "    print(\"best val loss of pre-trained model:\", checkpoint[\"best_val_loss\"])\n",
    "    print(config)"
   ]
  },
  {
   "cell_type": "code",
   "execution_count": null,
   "id": "100f8f32",
   "metadata": {},
   "outputs": [],
   "source": [
    "if not from_scratch:\n",
    "    print(\"loading model from checkpoint\")\n",
    "    checkpoint = torch.load(MODEL_DIR + IN_CHECKPOINT, map_location=device)\n",
    "    config = checkpoint[\"config\"]\n",
    "    model = GPT(config)\n",
    "    state_dict = checkpoint[\"model\"]\n",
    "    unwanted_prefix = \"_orig_mod.\"\n",
    "    for k, v in list(state_dict.items()):\n",
    "        if k.startswith(unwanted_prefix):\n",
    "            state_dict[k[len(unwanted_prefix) :]] = state_dict.pop(k)\n",
    "    model.load_state_dict(state_dict)\n",
    "    iter_num = checkpoint[\"iter_num\"]\n",
    "    best_val_loss = checkpoint[\"best_val_loss\"]\n",
    "else:\n",
    "    print(\"building model from scratch\")\n",
    "    # default configuration\n",
    "    config = (\n",
    "        config\n",
    "        if not pre_training and from_scratch\n",
    "        else dict(\n",
    "            n_layer=6,\n",
    "            n_head=6,\n",
    "            n_embd=150,\n",
    "            block_size=25,\n",
    "            bias=False,\n",
    "            vocab_size=vocab_size,\n",
    "            dropout=0.2,\n",
    "            pad_token=stoi[\"*\"],\n",
    "        )\n",
    "    )\n",
    "    # update config if required\n",
    "    config.update(dict(n_classes=2, lora_rank=1))\n",
    "    model = GPT(config)\n",
    "    if not pre_training:\n",
    "        state_dict = checkpoint[\"model\"]\n",
    "        # unwanted prefix gets added especially running on vms. Getting rid of that\n",
    "        unwanted_prefix = \"_orig_mod.\"\n",
    "        for k, v in list(state_dict.items()):\n",
    "            if k.startswith(unwanted_prefix):\n",
    "                state_dict[k[len(unwanted_prefix) :]] = state_dict.pop(k)\n",
    "        # there might be differences between the saved and created model. Hence disabled strict mode\n",
    "        missing, unexpected = model.load_state_dict(state_dict, strict=False)\n",
    "        print(\"--- missing ---\")\n",
    "        for _ in missing:\n",
    "            print(_)\n",
    "        print(\"--- unexpected ---\")\n",
    "        for _ in unexpected:\n",
    "            print(_)\n",
    "    # updating parameters to resume training from where it was left\n",
    "    iter_num = 0\n",
    "    best_val_loss = 1e9\n",
    "model = model.to(device)\n",
    "print(config)\n",
    "if compile:\n",
    "    print(\"compiling the model... (takes a ~minute)\")\n",
    "    model = torch.compile(model)"
   ]
  },
  {
   "cell_type": "code",
   "execution_count": null,
   "id": "14366920",
   "metadata": {},
   "outputs": [],
   "source": [
    "model"
   ]
  },
  {
   "cell_type": "code",
   "execution_count": null,
   "id": "65697279",
   "metadata": {
    "scrolled": true
   },
   "outputs": [],
   "source": [
    "print(\"--- learnable parameters ---\")\n",
    "for pn, p in model.named_parameters():\n",
    "    if p.requires_grad:\n",
    "        print(pn)"
   ]
  },
  {
   "cell_type": "code",
   "execution_count": null,
   "id": "ca5516da",
   "metadata": {},
   "outputs": [],
   "source": [
    "learning_rate = 1e-4  # maximum learning rate\n",
    "max_iters = 2500  # number of gradient update iterations\n",
    "lr_decay_iters = 2500  # number of iterations to decay the learning rate\n",
    "min_lr = 1e-4  # minimum learning rate\n",
    "weight_decay = 1e-2  # regularization\n",
    "beta1 = 0.9\n",
    "beta2 = 0.99\n",
    "warmup_iters = (\n",
    "    200  # number of iterations to linearly increase learning rate till maximum value\n",
    ")\n",
    "grad_clip = 1.0  # gradient clipping beyond this value\n",
    "decay_lr = False  # to enable decay of learning rate. If False, learning rate same for all the iterations"
   ]
  },
  {
   "cell_type": "code",
   "execution_count": null,
   "id": "644f16f6",
   "metadata": {},
   "outputs": [],
   "source": [
    "optimizer = model.configure_optimizers(weight_decay, learning_rate, (beta1, beta2))\n",
    "if not from_scratch:\n",
    "    print(\"loading optimizer from checkpoint\")\n",
    "    optimizer.load_state_dict(checkpoint[\"optimizer\"])\n",
    "checkpoint = None  # free-up memory"
   ]
  },
  {
   "cell_type": "code",
   "execution_count": null,
   "id": "5ad53266",
   "metadata": {},
   "outputs": [],
   "source": [
    "batch_size = 32\n",
    "gradient_accumulation_steps = 1  # to simulate large batch sizes\n",
    "tokens_per_iter = batch_size * gradient_accumulation_steps * config[\"block_size\"]\n",
    "print(f\"tokens per iteration will be: {tokens_per_iter:,}\")"
   ]
  },
  {
   "cell_type": "code",
   "execution_count": null,
   "id": "74df2cb8",
   "metadata": {},
   "outputs": [],
   "source": [
    "eval_interval = 50  # evaluation and writing of models every eval_interval iterations\n",
    "do_log = True  # enable logging\n",
    "log_interval = 20  # log metrics about the model training every log_interval iterations\n",
    "eval_iters = 30  # number of batches to evaluate on during evaluation"
   ]
  },
  {
   "cell_type": "markdown",
   "id": "146c2b4e",
   "metadata": {
    "slideshow": {
     "slide_type": "fragment"
    }
   },
   "source": [
    "## Pre-training Input and target examples\n",
    "\n",
    "<img src=\"../assets/module_3/input_example.png\">"
   ]
  },
  {
   "cell_type": "code",
   "execution_count": null,
   "id": "f92091a3",
   "metadata": {},
   "outputs": [],
   "source": [
    "train_names[:10]"
   ]
  },
  {
   "cell_type": "code",
   "execution_count": null,
   "id": "556780d5",
   "metadata": {},
   "outputs": [],
   "source": [
    "def get_batch(split, batch_index=None):\n",
    "    data = train_names if split == \"train\" else val_names\n",
    "    if batch_index is not None:\n",
    "        # creating batch specified by batch_index\n",
    "        max_batches = len(data) // batch_size\n",
    "        batch_index = batch_index % max_batches\n",
    "        ix = torch.arange(batch_index * batch_size, (batch_index + 1) * batch_size)\n",
    "    else:\n",
    "        # creating random batch\n",
    "        ix = torch.randint(len(data), (batch_size,))\n",
    "    pad_token = stoi[\"*\"]\n",
    "    if classification_task:\n",
    "        x = torch.ones(batch_size, config[\"block_size\"], dtype=torch.long) * pad_token\n",
    "        y = torch.ones(batch_size, 1, dtype=torch.long) * pad_token\n",
    "        for i, index in enumerate(ix):\n",
    "            encoded = encode(\"{\" + data[index][0])\n",
    "            # left padded\n",
    "            x[i][-len(encoded) :] = torch.Tensor(encoded)\n",
    "            y[i][0] = 1 if data[index][1] == \"male\" else 0\n",
    "            # y[i][0]=1 if data[index][1]==\"india\" else 0\n",
    "    else:\n",
    "        if pre_training:\n",
    "            x = (\n",
    "                torch.ones(batch_size, config[\"block_size\"], dtype=torch.long)\n",
    "                * pad_token\n",
    "            )\n",
    "            y = (\n",
    "                torch.ones(batch_size, config[\"block_size\"], dtype=torch.long)\n",
    "                * pad_token\n",
    "            )\n",
    "            for i, index in enumerate(ix):\n",
    "                encoded = encode(\"{\" + data[index][0] + \"}\")\n",
    "                # randomly selecting starting points in the block to ensure all position embeddings are learnt\n",
    "                start = torch.randint(\n",
    "                    config[\"block_size\"] - len(encoded) + 1, (1,)\n",
    "                ).item()\n",
    "                x[i][start : start + len(encoded)] = torch.Tensor(encoded)\n",
    "                y[i][start : start + len(encoded) - 1] = torch.Tensor(encoded[1:])\n",
    "        # instruction-tuning\n",
    "        elif \"0\" in data[0][0]:\n",
    "            x = (\n",
    "                torch.ones(\n",
    "                    batch_size,\n",
    "                    config[\"block_size\"] - prompt_vocab_size,\n",
    "                    dtype=torch.long,\n",
    "                )\n",
    "                * pad_token\n",
    "            )\n",
    "            y = (\n",
    "                torch.ones(batch_size, config[\"block_size\"], dtype=torch.long)\n",
    "                * pad_token\n",
    "            )\n",
    "            for i, index in enumerate(ix):\n",
    "                sep = data[index][0].index(\"0\")\n",
    "                first = encode(data[index][0][:sep])\n",
    "                second = encode(data[index][0][sep + 1 :])\n",
    "                encoded = first + second\n",
    "                x[i][: len(encoded)] = torch.Tensor(encoded)\n",
    "                y[i][\n",
    "                    prompt_vocab_size\n",
    "                    + len(first) : prompt_vocab_size\n",
    "                    + len(first)\n",
    "                    + len(second)\n",
    "                    - 1\n",
    "                ] = torch.Tensor(second[1:])\n",
    "        else:\n",
    "            # fine-tuning\n",
    "            x = (\n",
    "                torch.ones(\n",
    "                    batch_size,\n",
    "                    config[\"block_size\"] - prompt_vocab_size,\n",
    "                    dtype=torch.long,\n",
    "                )\n",
    "                * pad_token\n",
    "            )\n",
    "            y = (\n",
    "                torch.ones(batch_size, config[\"block_size\"], dtype=torch.long)\n",
    "                * pad_token\n",
    "            )\n",
    "            for i, index in enumerate(ix):\n",
    "                encoded = encode(\"{\" + data[index][0] + \"}\")\n",
    "                x[i][: len(encoded)] = torch.Tensor(encoded)\n",
    "                y[i][\n",
    "                    prompt_vocab_size : prompt_vocab_size + len(encoded) - 1\n",
    "                ] = torch.Tensor(encoded[1:])\n",
    "    x, y = x.to(device), y.to(device)\n",
    "    if prompt_vocab_size > 0:\n",
    "        prompt = torch.arange(prompt_vocab_size)\n",
    "        prompts = prompt.repeat(batch_size, 1)\n",
    "        prompts = prompts.to(device)\n",
    "    else:\n",
    "        prompts = None\n",
    "    return x, y, prompts"
   ]
  },
  {
   "cell_type": "code",
   "execution_count": null,
   "id": "9b00740c",
   "metadata": {
    "scrolled": true
   },
   "outputs": [],
   "source": [
    "x, y, prompts = get_batch(\"train\")\n",
    "ip = x[0].tolist()\n",
    "op = y[0].tolist()\n",
    "if classification_task:\n",
    "    for i in range(len(ip)):\n",
    "        print(itos[ip[i]])\n",
    "    print(\"class\", op[0])\n",
    "else:\n",
    "    for i in range(prompt_vocab_size):\n",
    "        print(\"prompt\", i, \"-\", itos[op[i]])\n",
    "    for i in range(len(ip)):\n",
    "        print(itos[ip[i]], \"-\", itos[op[i + prompt_vocab_size]])"
   ]
  },
  {
   "cell_type": "code",
   "execution_count": null,
   "id": "df8ac3ed",
   "metadata": {},
   "outputs": [],
   "source": [
    "@torch.no_grad()\n",
    "def estimate_loss():\n",
    "    out = {}\n",
    "    model.eval()\n",
    "    for split in [\"train\", \"val\"]:\n",
    "        losses = torch.zeros(eval_iters)\n",
    "        for k in range(eval_iters):\n",
    "            if split == \"val\":\n",
    "                X, Y, Prompts = get_batch(split, batch_index=k)\n",
    "            else:\n",
    "                X, Y, Prompts = get_batch(split)\n",
    "            with ctx:\n",
    "                logits, loss = model(X, Y, prompts=Prompts)\n",
    "            losses[k] = loss.item()\n",
    "        out[split] = losses.mean()\n",
    "    model.train()\n",
    "    return out\n",
    "\n",
    "\n",
    "def get_lr(it):\n",
    "    # 1) linear warmup for warmup_iters steps\n",
    "    if it < warmup_iters:\n",
    "        return learning_rate * it / warmup_iters\n",
    "    # 2) if it > lr_decay_iters, return min learning rate\n",
    "    if it > lr_decay_iters:\n",
    "        return min_lr\n",
    "    # 3) in between, use cosine decay down to min learning rate\n",
    "    decay_ratio = (it - warmup_iters) / (lr_decay_iters - warmup_iters)\n",
    "    assert 0 <= decay_ratio <= 1\n",
    "    coeff = 0.5 * (1.0 + math.cos(math.pi * decay_ratio))  # coeff ranges 0..1\n",
    "    return min_lr + coeff * (learning_rate - min_lr)"
   ]
  },
  {
   "cell_type": "code",
   "execution_count": null,
   "id": "0de00bb4",
   "metadata": {},
   "outputs": [],
   "source": [
    "X, Y, Prompts = get_batch(\"train\")  # fetch the very first batch\n",
    "t0 = time.time()\n",
    "while True:\n",
    "    # determine and set the learning rate for this iteration\n",
    "    lr = get_lr(iter_num) if decay_lr else learning_rate\n",
    "    for param_group in optimizer.param_groups:\n",
    "        param_group[\"lr\"] = lr\n",
    "\n",
    "    # evaluate the loss on train/val sets and write checkpoints\n",
    "    if iter_num % eval_interval == 0:\n",
    "        losses = estimate_loss()\n",
    "        print(\n",
    "            f\"step {iter_num}: train loss {losses['train']:.4f}, val loss {losses['val']:.4f}\"\n",
    "        )\n",
    "        if not eval_only and (losses[\"val\"] < best_val_loss or always_save_checkpoint):\n",
    "            best_val_loss = losses[\"val\"]\n",
    "            if iter_num > 0:\n",
    "                checkpoint = {\n",
    "                    \"model\": model.state_dict(),\n",
    "                    \"optimizer\": optimizer.state_dict(),\n",
    "                    \"iter_num\": iter_num,\n",
    "                    \"best_val_loss\": best_val_loss,\n",
    "                    \"config\": config,\n",
    "                }\n",
    "                print(f\"saving checkpoint to {MODEL_DIR+OUT_CHECKPOINT}\")\n",
    "                torch.save(checkpoint, MODEL_DIR + OUT_CHECKPOINT)\n",
    "    if eval_only:\n",
    "        break\n",
    "\n",
    "    for micro_step in range(gradient_accumulation_steps):\n",
    "        with ctx:\n",
    "            # forward pass\n",
    "            logits, loss = model(X, Y, prompts=Prompts)\n",
    "            if gradient_accumulation_steps > 1:\n",
    "                # scaling loss in case of gradient accumulation\n",
    "                loss = loss / gradient_accumulation_steps\n",
    "        X, Y, Prompts = get_batch(\"train\")\n",
    "        # backward pass. And upscaling the loss if gradient scaling enabled\n",
    "        scaler.scale(loss).backward()\n",
    "    # clip the gradient\n",
    "    if grad_clip != 0.0:\n",
    "        # downscaling the loss before clipping gradients\n",
    "        scaler.unscale_(optimizer)\n",
    "        # clipping gradients\n",
    "        torch.nn.utils.clip_grad_norm_(model.parameters(), grad_clip)\n",
    "    # step the optimizer and unscale loss if gradient clipping disabled\n",
    "    scaler.step(optimizer)\n",
    "    scaler.update()\n",
    "    # flush gradients and free-up memory\n",
    "    optimizer.zero_grad(set_to_none=True)\n",
    "\n",
    "    # timing and logging\n",
    "    t1 = time.time()\n",
    "    dt = t1 - t0\n",
    "    t0 = t1\n",
    "    if do_log and iter_num % log_interval == 0:\n",
    "        # multiply loss to account for division incase of gradient accumulation\n",
    "        lossf = loss.item() * gradient_accumulation_steps\n",
    "        print(f\"iter {iter_num}: loss {lossf:.4f}, time {dt*1000:.2f}ms\")\n",
    "    iter_num += 1\n",
    "\n",
    "    # termination conditions\n",
    "    if iter_num > max_iters:\n",
    "        break"
   ]
  },
  {
   "cell_type": "code",
   "execution_count": null,
   "id": "33dbc4ef",
   "metadata": {},
   "outputs": [],
   "source": [
    "print(\"best val loss:\", round(best_val_loss.item(), 2))"
   ]
  },
  {
   "cell_type": "code",
   "execution_count": null,
   "id": "6cbd5ea8",
   "metadata": {},
   "outputs": [],
   "source": []
  }
 ],
 "metadata": {
  "kernelspec": {
   "display_name": "Python 3 (ipykernel)",
   "language": "python",
   "name": "python3"
  },
  "language_info": {
   "codemirror_mode": {
    "name": "ipython",
    "version": 3
   },
   "file_extension": ".py",
   "mimetype": "text/x-python",
   "name": "python",
   "nbconvert_exporter": "python",
   "pygments_lexer": "ipython3",
   "version": "3.10.8"
  }
 },
 "nbformat": 4,
 "nbformat_minor": 5
}
