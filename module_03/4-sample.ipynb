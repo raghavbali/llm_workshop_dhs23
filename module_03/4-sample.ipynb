{
 "cells": [
  {
   "cell_type": "code",
   "execution_count": 1,
   "id": "bcd5ae7b",
   "metadata": {},
   "outputs": [],
   "source": [
    "import os, pickle, torch\n",
    "from model import GPT"
   ]
  },
  {
   "cell_type": "code",
   "execution_count": 2,
   "id": "6934bd8d",
   "metadata": {},
   "outputs": [],
   "source": [
    "DATA_DIR = \"data/\"\n",
    "MODEL_DIR = \"best_models/\"\n",
    "CHECKPOINT = \"instruction_tuning.pt\"\n",
    "device = \"mps\""
   ]
  },
  {
   "cell_type": "code",
   "execution_count": 3,
   "id": "fbab82d1",
   "metadata": {},
   "outputs": [],
   "source": [
    "with open(DATA_DIR + \"meta.pkl\", \"rb\") as f:\n",
    "    meta = pickle.load(f)\n",
    "stoi, itos = meta[\"stoi\"], meta[\"itos\"]\n",
    "encode = lambda s: [stoi[c] for c in s]\n",
    "decode = lambda l: \"\".join([itos[i] for i in l])"
   ]
  },
  {
   "cell_type": "code",
   "execution_count": 4,
   "id": "df55e4d7",
   "metadata": {},
   "outputs": [
    {
     "name": "stdout",
     "output_type": "stream",
     "text": [
      "best val loss: 1.3631967306137085\n",
      "{'n_layer': 6, 'n_head': 6, 'n_embd': 150, 'block_size': 25, 'bias': False, 'vocab_size': 38, 'dropout': 0.2, 'pad_token': 26}\n",
      "total number of parameters: 1627650 learnable: 1627650\n"
     ]
    }
   ],
   "source": [
    "checkpoint = torch.load(MODEL_DIR + CHECKPOINT, map_location=device)\n",
    "print(\"best val loss:\", checkpoint[\"best_val_loss\"].item())\n",
    "config = checkpoint[\"config\"]\n",
    "print(config)\n",
    "model = GPT(config)\n",
    "state_dict = checkpoint[\"model\"]\n",
    "unwanted_prefix = \"_orig_mod.\"\n",
    "for k, v in list(state_dict.items()):\n",
    "    if k.startswith(unwanted_prefix):\n",
    "        state_dict[k[len(unwanted_prefix) :]] = state_dict.pop(k)\n",
    "model.load_state_dict(state_dict)\n",
    "model.eval()\n",
    "model = model.to(device)"
   ]
  },
  {
   "cell_type": "code",
   "execution_count": 5,
   "id": "f0c9809f",
   "metadata": {},
   "outputs": [
    {
     "data": {
      "text/plain": [
       "GPT(\n",
       "  (transformer): ModuleDict(\n",
       "    (wte): Embedding(38, 150, padding_idx=26)\n",
       "    (wpe): Embedding(25, 150)\n",
       "    (drop): Dropout(p=0.2, inplace=False)\n",
       "    (h): ModuleList(\n",
       "      (0-5): 6 x Block(\n",
       "        (ln_1): LayerNorm()\n",
       "        (attn): CausalSelfAttention(\n",
       "          (c_attn): Linear(in_features=150, out_features=450, bias=False)\n",
       "          (c_proj): Linear(in_features=150, out_features=150, bias=False)\n",
       "          (attn_dropout): Dropout(p=0.2, inplace=False)\n",
       "          (resid_dropout): Dropout(p=0.2, inplace=False)\n",
       "        )\n",
       "        (ln_2): LayerNorm()\n",
       "        (mlp): MLP(\n",
       "          (c_fc): Linear(in_features=150, out_features=600, bias=False)\n",
       "          (gelu): GELU(approximate='none')\n",
       "          (c_proj): Linear(in_features=600, out_features=150, bias=False)\n",
       "          (dropout): Dropout(p=0.2, inplace=False)\n",
       "        )\n",
       "      )\n",
       "    )\n",
       "    (ln_f): LayerNorm()\n",
       "  )\n",
       "  (lm_head): Linear(in_features=150, out_features=38, bias=False)\n",
       ")"
      ]
     },
     "execution_count": 5,
     "metadata": {},
     "output_type": "execute_result"
    }
   ],
   "source": [
    "model"
   ]
  },
  {
   "cell_type": "code",
   "execution_count": 6,
   "id": "c78734d0",
   "metadata": {},
   "outputs": [
    {
     "name": "stdout",
     "output_type": "stream",
     "text": [
      "--- learnable parameters ---\n",
      "transformer.wte.weight\n",
      "transformer.wpe.weight\n",
      "transformer.h.0.ln_1.weight\n",
      "transformer.h.0.attn.c_attn.weight\n",
      "transformer.h.0.attn.c_proj.weight\n",
      "transformer.h.0.ln_2.weight\n",
      "transformer.h.0.mlp.c_fc.weight\n",
      "transformer.h.0.mlp.c_proj.weight\n",
      "transformer.h.1.ln_1.weight\n",
      "transformer.h.1.attn.c_attn.weight\n",
      "transformer.h.1.attn.c_proj.weight\n",
      "transformer.h.1.ln_2.weight\n",
      "transformer.h.1.mlp.c_fc.weight\n",
      "transformer.h.1.mlp.c_proj.weight\n",
      "transformer.h.2.ln_1.weight\n",
      "transformer.h.2.attn.c_attn.weight\n",
      "transformer.h.2.attn.c_proj.weight\n",
      "transformer.h.2.ln_2.weight\n",
      "transformer.h.2.mlp.c_fc.weight\n",
      "transformer.h.2.mlp.c_proj.weight\n",
      "transformer.h.3.ln_1.weight\n",
      "transformer.h.3.attn.c_attn.weight\n",
      "transformer.h.3.attn.c_proj.weight\n",
      "transformer.h.3.ln_2.weight\n",
      "transformer.h.3.mlp.c_fc.weight\n",
      "transformer.h.3.mlp.c_proj.weight\n",
      "transformer.h.4.ln_1.weight\n",
      "transformer.h.4.attn.c_attn.weight\n",
      "transformer.h.4.attn.c_proj.weight\n",
      "transformer.h.4.ln_2.weight\n",
      "transformer.h.4.mlp.c_fc.weight\n",
      "transformer.h.4.mlp.c_proj.weight\n",
      "transformer.h.5.ln_1.weight\n",
      "transformer.h.5.attn.c_attn.weight\n",
      "transformer.h.5.attn.c_proj.weight\n",
      "transformer.h.5.ln_2.weight\n",
      "transformer.h.5.mlp.c_fc.weight\n",
      "transformer.h.5.mlp.c_proj.weight\n",
      "transformer.ln_f.weight\n"
     ]
    }
   ],
   "source": [
    "print(\"--- learnable parameters ---\")\n",
    "for pn, p in model.named_parameters():\n",
    "    if p.requires_grad:\n",
    "        print(pn)"
   ]
  },
  {
   "cell_type": "code",
   "execution_count": 25,
   "id": "6c208f7d",
   "metadata": {},
   "outputs": [
    {
     "name": "stdout",
     "output_type": "stream",
     "text": [
      "Ean{sunanda}\n",
      "Ean{saran}\n",
      "Ean{santonioni}\n",
      "Ean{anastacia}\n",
      "Ean{manina}\n"
     ]
    }
   ],
   "source": [
    "start = \"Ean{\"\n",
    "num_samples = 5\n",
    "max_new_tokens = 25\n",
    "temperature = 1.0\n",
    "top_k = 3\n",
    "\n",
    "x = torch.tensor(encode(start), dtype=torch.long, device=device)[None, ...]\n",
    "if config.get(\"prompt_vocab_size\", 0) > 0:\n",
    "    prompt = torch.arange(config[\"prompt_vocab_size\"], dtype=torch.long, device=device)[\n",
    "        None, ...\n",
    "    ]\n",
    "else:\n",
    "    prompt = None\n",
    "with torch.no_grad():\n",
    "    for k in range(num_samples):\n",
    "        y = model.generate(\n",
    "            x,\n",
    "            max_new_tokens,\n",
    "            temperature=temperature,\n",
    "            top_k=top_k,\n",
    "            end_token=stoi[\"}\"],\n",
    "            prompt=prompt,\n",
    "        )\n",
    "        print(decode(y[0].tolist()))"
   ]
  },
  {
   "cell_type": "code",
   "execution_count": 8,
   "id": "2c394ac6",
   "metadata": {},
   "outputs": [
    {
     "name": "stdout",
     "output_type": "stream",
     "text": [
      "temperature = 0.2 ==> [0.03, 0.03, 0.89, 0.03, 0.03]\n",
      "temperature = 0.5 ==> [0.12, 0.12, 0.5, 0.12, 0.12]\n",
      "temperature = 1.0 ==> [0.17, 0.17, 0.33, 0.17, 0.17]\n",
      "temperature = 1.5 ==> [0.18, 0.18, 0.29, 0.18, 0.18]\n",
      "temperature = 5.0 ==> [0.19, 0.19, 0.22, 0.19, 0.19]\n"
     ]
    }
   ],
   "source": [
    "a = torch.Tensor([0.1, 0.1, 0.8, 0.1, 0.1])\n",
    "print(\n",
    "    \"temperature = 0.2 ==>\",\n",
    "    [round(i, 2) for i in torch.nn.functional.softmax(a / 0.2, dim=0).tolist()],\n",
    ")\n",
    "print(\n",
    "    \"temperature = 0.5 ==>\",\n",
    "    [round(i, 2) for i in torch.nn.functional.softmax(a / 0.5, dim=0).tolist()],\n",
    ")\n",
    "print(\n",
    "    \"temperature = 1.0 ==>\",\n",
    "    [round(i, 2) for i in torch.nn.functional.softmax(a / 1.0, dim=0).tolist()],\n",
    ")\n",
    "print(\n",
    "    \"temperature = 1.5 ==>\",\n",
    "    [round(i, 2) for i in torch.nn.functional.softmax(a / 1.5, dim=0).tolist()],\n",
    ")\n",
    "print(\n",
    "    \"temperature = 5.0 ==>\",\n",
    "    [round(i, 2) for i in torch.nn.functional.softmax(a / 5.0, dim=0).tolist()],\n",
    ")"
   ]
  },
  {
   "cell_type": "code",
   "execution_count": null,
   "id": "a3dd48ec",
   "metadata": {},
   "outputs": [],
   "source": []
  }
 ],
 "metadata": {
  "kernelspec": {
   "display_name": "Python 3 (ipykernel)",
   "language": "python",
   "name": "python3"
  },
  "language_info": {
   "codemirror_mode": {
    "name": "ipython",
    "version": 3
   },
   "file_extension": ".py",
   "mimetype": "text/x-python",
   "name": "python",
   "nbconvert_exporter": "python",
   "pygments_lexer": "ipython3",
   "version": "3.10.8"
  }
 },
 "nbformat": 4,
 "nbformat_minor": 5
}
