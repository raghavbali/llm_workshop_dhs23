{
 "cells": [
  {
   "cell_type": "code",
   "execution_count": null,
   "id": "bcd5ae7b",
   "metadata": {},
   "outputs": [],
   "source": [
    "import os, pickle, torch\n",
    "from model_exercise5_solution import GPT"
   ]
  },
  {
   "cell_type": "code",
   "execution_count": null,
   "id": "6934bd8d",
   "metadata": {},
   "outputs": [],
   "source": [
    "DATA_DIR = \"data/\"\n",
    "MODEL_DIR = \"best_models/\"\n",
    "CHECKPOINT = \"instruction_tuning.pt\"\n",
    "device = \"mps\"\n",
    "device = \"cuda\" if torch.cuda.is_available() else \"cpu\"\n",
    "print(\"device =\", device)"
   ]
  },
  {
   "cell_type": "code",
   "execution_count": null,
   "id": "fbab82d1",
   "metadata": {},
   "outputs": [],
   "source": [
    "with open(DATA_DIR + \"meta.pkl\", \"rb\") as f:\n",
    "    meta = pickle.load(f)\n",
    "stoi, itos = meta[\"stoi\"], meta[\"itos\"]\n",
    "encode = lambda s: [stoi[c] for c in s]\n",
    "decode = lambda l: \"\".join([itos[i] for i in l])"
   ]
  },
  {
   "cell_type": "code",
   "execution_count": null,
   "id": "df55e4d7",
   "metadata": {},
   "outputs": [],
   "source": [
    "checkpoint = torch.load(MODEL_DIR + CHECKPOINT, map_location=device)\n",
    "print(\"best val loss:\", checkpoint[\"best_val_loss\"].item())\n",
    "config = checkpoint[\"config\"]\n",
    "print(config)\n",
    "model = GPT(config)\n",
    "state_dict = checkpoint[\"model\"]\n",
    "unwanted_prefix = \"_orig_mod.\"\n",
    "for k, v in list(state_dict.items()):\n",
    "    if k.startswith(unwanted_prefix):\n",
    "        state_dict[k[len(unwanted_prefix) :]] = state_dict.pop(k)\n",
    "model.load_state_dict(state_dict)\n",
    "model.eval()\n",
    "model = model.to(device)"
   ]
  },
  {
   "cell_type": "code",
   "execution_count": null,
   "id": "f0c9809f",
   "metadata": {},
   "outputs": [],
   "source": [
    "model"
   ]
  },
  {
   "cell_type": "code",
   "execution_count": null,
   "id": "c78734d0",
   "metadata": {},
   "outputs": [],
   "source": [
    "print(\"--- learnable parameters ---\")\n",
    "for pn, p in model.named_parameters():\n",
    "    if p.requires_grad:\n",
    "        print(pn)"
   ]
  },
  {
   "cell_type": "code",
   "execution_count": null,
   "id": "6c208f7d",
   "metadata": {},
   "outputs": [],
   "source": [
    "start = \"G{julina=\"\n",
    "num_samples = 5\n",
    "max_new_tokens = 25\n",
    "temperature = 1.0\n",
    "top_k = 1\n",
    "\n",
    "x = torch.tensor(encode(start), dtype=torch.long, device=device)[None, ...]\n",
    "if config.get(\"prompt_vocab_size\", 0) > 0:\n",
    "    prompt = torch.arange(config[\"prompt_vocab_size\"], dtype=torch.long, device=device)[\n",
    "        None, ...\n",
    "    ]\n",
    "else:\n",
    "    prompt = None\n",
    "with torch.no_grad():\n",
    "    for k in range(num_samples):\n",
    "        y = model.generate(\n",
    "            x,\n",
    "            max_new_tokens,\n",
    "            temperature=temperature,\n",
    "            top_k=top_k,\n",
    "            end_token=stoi[\"}\"],\n",
    "            prompt=prompt,\n",
    "        )\n",
    "        print(decode(y[0].tolist()))"
   ]
  },
  {
   "cell_type": "code",
   "execution_count": null,
   "id": "2c394ac6",
   "metadata": {},
   "outputs": [],
   "source": [
    "a = torch.Tensor([0.1, 0.1, 0.8, 0.1, 0.1])\n",
    "print(\n",
    "    \"temperature = 0.2 ==>\",\n",
    "    [round(i, 2) for i in torch.nn.functional.softmax(a / 0.2, dim=0).tolist()],\n",
    ")\n",
    "print(\n",
    "    \"temperature = 0.5 ==>\",\n",
    "    [round(i, 2) for i in torch.nn.functional.softmax(a / 0.5, dim=0).tolist()],\n",
    ")\n",
    "print(\n",
    "    \"temperature = 1.0 ==>\",\n",
    "    [round(i, 2) for i in torch.nn.functional.softmax(a / 1.0, dim=0).tolist()],\n",
    ")\n",
    "print(\n",
    "    \"temperature = 1.5 ==>\",\n",
    "    [round(i, 2) for i in torch.nn.functional.softmax(a / 1.5, dim=0).tolist()],\n",
    ")\n",
    "print(\n",
    "    \"temperature = 5.0 ==>\",\n",
    "    [round(i, 2) for i in torch.nn.functional.softmax(a / 5.0, dim=0).tolist()],\n",
    ")"
   ]
  },
  {
   "cell_type": "code",
   "execution_count": null,
   "id": "a3dd48ec",
   "metadata": {},
   "outputs": [],
   "source": []
  }
 ],
 "metadata": {
  "kernelspec": {
   "display_name": "Python 3 (ipykernel)",
   "language": "python",
   "name": "python3"
  },
  "language_info": {
   "codemirror_mode": {
    "name": "ipython",
    "version": 3
   },
   "file_extension": ".py",
   "mimetype": "text/x-python",
   "name": "python",
   "nbconvert_exporter": "python",
   "pygments_lexer": "ipython3",
   "version": "3.10.8"
  }
 },
 "nbformat": 4,
 "nbformat_minor": 5
}
