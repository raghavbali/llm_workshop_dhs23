{
 "cells": [
  {
   "cell_type": "markdown",
   "id": "3a28bc7c",
   "metadata": {},
   "source": [
    "# Training of character level language model for names"
   ]
  },
  {
   "cell_type": "code",
   "execution_count": 1,
   "id": "06d42342",
   "metadata": {},
   "outputs": [],
   "source": [
    "import os, time, math, pickle\n",
    "import numpy as np, pandas as pd\n",
    "from contextlib import nullcontext\n",
    "import torch\n",
    "from model import GPT"
   ]
  },
  {
   "cell_type": "code",
   "execution_count": 2,
   "id": "aeb047db",
   "metadata": {},
   "outputs": [],
   "source": [
    "pre_training = False  # specifies if its pre-training or fine-tuning\n",
    "from_scratch = (\n",
    "    True  # specifies if we resuming from a checkpoint or training from scratch\n",
    ")\n",
    "task = \"instruction_tuning\"  # name of task in case of fine-tuning. used to understand type of task and read its dataset\n",
    "prompt_vocab_size = 0  # prompt-tuning. Supports only one task\n",
    "classification_task = \"classification\" in task\n",
    "always_save_checkpoint = (\n",
    "    False  # if True, we update the checkpoint after each training iteration\n",
    ")\n",
    "eval_only = False  # if True, only evaluation and no training"
   ]
  },
  {
   "cell_type": "code",
   "execution_count": 3,
   "id": "e19b952f",
   "metadata": {},
   "outputs": [],
   "source": [
    "DATA_DIR = \"data/\"\n",
    "MODEL_DIR = \"best_models/\"\n",
    "IN_CHECKPOINT = \"base.pt\"  # checkpoint to load the model from\n",
    "OUT_CHECKPOINT = \"instruction_tuning.pt\"  # checkpoint to write the model to"
   ]
  },
  {
   "cell_type": "code",
   "execution_count": 4,
   "id": "cc21f68d",
   "metadata": {},
   "outputs": [
    {
     "name": "stdout",
     "output_type": "stream",
     "text": [
      "loading dataset for task: instruction_tuning\n"
     ]
    }
   ],
   "source": [
    "if pre_training:\n",
    "    print(\"loading pre-training dataset\")\n",
    "    train_names = pd.read_csv(DATA_DIR + \"train.bin\")[[\"name\"]].values.tolist()\n",
    "    val_names = pd.read_csv(DATA_DIR + \"val.bin\")[[\"name\"]].values.tolist()\n",
    "else:\n",
    "    print(\"loading dataset for task:\", task)\n",
    "    train_names = pd.read_csv(DATA_DIR + task + \"_train.bin\").values.tolist()\n",
    "    val_names = pd.read_csv(DATA_DIR + task + \"_val.bin\").values.tolist()"
   ]
  },
  {
   "cell_type": "code",
   "execution_count": 5,
   "id": "66a7a590",
   "metadata": {},
   "outputs": [
    {
     "name": "stdout",
     "output_type": "stream",
     "text": [
      "vocab size: 38\n"
     ]
    }
   ],
   "source": [
    "with open(DATA_DIR + \"meta.pkl\", \"rb\") as f:\n",
    "    meta = pickle.load(f)\n",
    "stoi, itos, vocab_size = meta[\"stoi\"], meta[\"itos\"], meta[\"vocab_size\"]\n",
    "encode = lambda s: [stoi[c] for c in s]\n",
    "decode = lambda l: \"\".join([itos[i] for i in l])\n",
    "print(\"vocab size:\", vocab_size)"
   ]
  },
  {
   "cell_type": "code",
   "execution_count": 6,
   "id": "756f0eb4",
   "metadata": {},
   "outputs": [
    {
     "name": "stdout",
     "output_type": "stream",
     "text": [
      "device = mps\n"
     ]
    }
   ],
   "source": [
    "device = [\"mps\", \"cpu\", \"cuda\"][0]\n",
    "print(\"device =\", device)"
   ]
  },
  {
   "cell_type": "code",
   "execution_count": 7,
   "id": "619a8c76",
   "metadata": {},
   "outputs": [],
   "source": [
    "compile = False\n",
    "if device == \"cuda\":\n",
    "    compile = True\n",
    "    torch.backends.cuda.matmul.allow_tf32 = True  # allow tf32 on matmul\n",
    "    torch.backends.cudnn.allow_tf32 = True  # allow tf32 on cudnn\n",
    "    if torch.cuda.is_bf16_supported():\n",
    "        # automatically chooses appropriate precision for operations\n",
    "        ctx = torch.amp.autocast(device_type=device, dtype=torch.bfloat16)\n",
    "        # gradient scaler disabled in case of bfloat16\n",
    "        scaler = torch.cuda.amp.GradScaler(enabled=False)\n",
    "    else:\n",
    "        ctx = torch.amp.autocast(device_type=device, dtype=torch.float16)\n",
    "        # gradient scaler disabled in case of bfoat16\n",
    "        scaler = torch.cuda.amp.GradScaler(enabled=True)\n",
    "else:\n",
    "    ctx = nullcontext()\n",
    "    # gradient scaling disabled in case of devices other than cuda. No-op in that case\n",
    "    scaler = torch.cuda.amp.GradScaler(enabled=False)"
   ]
  },
  {
   "cell_type": "markdown",
   "id": "a03b24ff",
   "metadata": {
    "slideshow": {
     "slide_type": "slide"
    }
   },
   "source": [
    "<img src=\"../assets/module_3/floating_point_numbers.png\">\n",
    "\n",
    "source: https://cloud.google.com/tpu/docs/bfloat16"
   ]
  },
  {
   "cell_type": "markdown",
   "id": "f496271b",
   "metadata": {
    "slideshow": {
     "slide_type": "slide"
    }
   },
   "source": [
    "<img src=\"../assets/module_3/gradient_scaling.png\">\n",
    "\n",
    "source: https://pytorch.org/docs/stable/amp.html"
   ]
  },
  {
   "cell_type": "markdown",
   "id": "55ee3b7f",
   "metadata": {
    "slideshow": {
     "slide_type": "slide"
    }
   },
   "source": [
    "## Mixed Precision Training\n",
    "\n",
    "<img src=\"../assets/module_3/mixed_precision.png\">\n",
    "\n",
    "source: https://hackernoon.com/rtx-2080ti-vs-gtx-1080ti-fastai-mixed-precision-training-comparisons-on-cifar-100-761d8f615d7f"
   ]
  },
  {
   "cell_type": "code",
   "execution_count": 8,
   "id": "9dc122c3",
   "metadata": {},
   "outputs": [
    {
     "name": "stdout",
     "output_type": "stream",
     "text": [
      "loading pre-trained model\n",
      "best val loss of pre-trained model: tensor(1.9830, device='mps:0')\n",
      "{'n_layer': 6, 'n_head': 6, 'n_embd': 150, 'block_size': 25, 'bias': False, 'vocab_size': 38, 'dropout': 0.2, 'pad_token': 26}\n"
     ]
    }
   ],
   "source": [
    "if not pre_training and from_scratch:\n",
    "    print(\"loading pre-trained model\")\n",
    "    checkpoint = torch.load(MODEL_DIR + IN_CHECKPOINT, map_location=device)\n",
    "    config = checkpoint[\"config\"]\n",
    "    print(\"best val loss of pre-trained model:\", checkpoint[\"best_val_loss\"])\n",
    "    print(config)"
   ]
  },
  {
   "cell_type": "code",
   "execution_count": 9,
   "id": "100f8f32",
   "metadata": {},
   "outputs": [
    {
     "name": "stdout",
     "output_type": "stream",
     "text": [
      "building model from scratch\n",
      "total number of parameters: 1627650 learnable: 1627650\n",
      "--- missing ---\n",
      "--- unexpected ---\n",
      "{'n_layer': 6, 'n_head': 6, 'n_embd': 150, 'block_size': 25, 'bias': False, 'vocab_size': 38, 'dropout': 0.2, 'pad_token': 26}\n"
     ]
    }
   ],
   "source": [
    "if not from_scratch:\n",
    "    print(\"loading model from checkpoint\")\n",
    "    checkpoint = torch.load(MODEL_DIR + IN_CHECKPOINT, map_location=device)\n",
    "    config = checkpoint[\"config\"]\n",
    "    model = GPT(config)\n",
    "    state_dict = checkpoint[\"model\"]\n",
    "    unwanted_prefix = \"_orig_mod.\"\n",
    "    for k, v in list(state_dict.items()):\n",
    "        if k.startswith(unwanted_prefix):\n",
    "            state_dict[k[len(unwanted_prefix) :]] = state_dict.pop(k)\n",
    "    model.load_state_dict(state_dict)\n",
    "    iter_num = checkpoint[\"iter_num\"]\n",
    "    best_val_loss = checkpoint[\"best_val_loss\"]\n",
    "else:\n",
    "    print(\"building model from scratch\")\n",
    "    # default configuration\n",
    "    config = (\n",
    "        config\n",
    "        if not pre_training and from_scratch\n",
    "        else dict(\n",
    "            n_layer=6,\n",
    "            n_head=6,\n",
    "            n_embd=150,\n",
    "            block_size=25,\n",
    "            bias=False,\n",
    "            vocab_size=vocab_size,\n",
    "            dropout=0.2,\n",
    "            pad_token=stoi[\"*\"],\n",
    "        )\n",
    "    )\n",
    "    # update config if required\n",
    "    config.update(dict())\n",
    "    model = GPT(config)\n",
    "    if not pre_training:\n",
    "        state_dict = checkpoint[\"model\"]\n",
    "        # unwanted prefix gets added especially running on vms. Getting rid of that\n",
    "        unwanted_prefix = \"_orig_mod.\"\n",
    "        for k, v in list(state_dict.items()):\n",
    "            if k.startswith(unwanted_prefix):\n",
    "                state_dict[k[len(unwanted_prefix) :]] = state_dict.pop(k)\n",
    "        # there might be differences between the saved and created model. Hence disabled strict mode\n",
    "        missing, unexpected = model.load_state_dict(state_dict, strict=False)\n",
    "        print(\"--- missing ---\")\n",
    "        for _ in missing:\n",
    "            print(_)\n",
    "        print(\"--- unexpected ---\")\n",
    "        for _ in unexpected:\n",
    "            print(_)\n",
    "    # updating parameters to resume training from where it was left\n",
    "    iter_num = 0\n",
    "    best_val_loss = 1e9\n",
    "model = model.to(device)\n",
    "print(config)\n",
    "if compile:\n",
    "    print(\"compiling the model... (takes a ~minute)\")\n",
    "    model = torch.compile(model)"
   ]
  },
  {
   "cell_type": "code",
   "execution_count": 10,
   "id": "14366920",
   "metadata": {},
   "outputs": [
    {
     "data": {
      "text/plain": [
       "GPT(\n",
       "  (transformer): ModuleDict(\n",
       "    (wte): Embedding(38, 150, padding_idx=26)\n",
       "    (wpe): Embedding(25, 150)\n",
       "    (drop): Dropout(p=0.2, inplace=False)\n",
       "    (h): ModuleList(\n",
       "      (0-5): 6 x Block(\n",
       "        (ln_1): LayerNorm()\n",
       "        (attn): CausalSelfAttention(\n",
       "          (c_attn): Linear(in_features=150, out_features=450, bias=False)\n",
       "          (c_proj): Linear(in_features=150, out_features=150, bias=False)\n",
       "          (attn_dropout): Dropout(p=0.2, inplace=False)\n",
       "          (resid_dropout): Dropout(p=0.2, inplace=False)\n",
       "        )\n",
       "        (ln_2): LayerNorm()\n",
       "        (mlp): MLP(\n",
       "          (c_fc): Linear(in_features=150, out_features=600, bias=False)\n",
       "          (gelu): GELU(approximate='none')\n",
       "          (c_proj): Linear(in_features=600, out_features=150, bias=False)\n",
       "          (dropout): Dropout(p=0.2, inplace=False)\n",
       "        )\n",
       "      )\n",
       "    )\n",
       "    (ln_f): LayerNorm()\n",
       "  )\n",
       "  (lm_head): Linear(in_features=150, out_features=38, bias=False)\n",
       ")"
      ]
     },
     "execution_count": 10,
     "metadata": {},
     "output_type": "execute_result"
    }
   ],
   "source": [
    "model"
   ]
  },
  {
   "cell_type": "code",
   "execution_count": 11,
   "id": "65697279",
   "metadata": {
    "scrolled": true
   },
   "outputs": [
    {
     "name": "stdout",
     "output_type": "stream",
     "text": [
      "--- learnable parameters ---\n",
      "transformer.wte.weight\n",
      "transformer.wpe.weight\n",
      "transformer.h.0.ln_1.weight\n",
      "transformer.h.0.attn.c_attn.weight\n",
      "transformer.h.0.attn.c_proj.weight\n",
      "transformer.h.0.ln_2.weight\n",
      "transformer.h.0.mlp.c_fc.weight\n",
      "transformer.h.0.mlp.c_proj.weight\n",
      "transformer.h.1.ln_1.weight\n",
      "transformer.h.1.attn.c_attn.weight\n",
      "transformer.h.1.attn.c_proj.weight\n",
      "transformer.h.1.ln_2.weight\n",
      "transformer.h.1.mlp.c_fc.weight\n",
      "transformer.h.1.mlp.c_proj.weight\n",
      "transformer.h.2.ln_1.weight\n",
      "transformer.h.2.attn.c_attn.weight\n",
      "transformer.h.2.attn.c_proj.weight\n",
      "transformer.h.2.ln_2.weight\n",
      "transformer.h.2.mlp.c_fc.weight\n",
      "transformer.h.2.mlp.c_proj.weight\n",
      "transformer.h.3.ln_1.weight\n",
      "transformer.h.3.attn.c_attn.weight\n",
      "transformer.h.3.attn.c_proj.weight\n",
      "transformer.h.3.ln_2.weight\n",
      "transformer.h.3.mlp.c_fc.weight\n",
      "transformer.h.3.mlp.c_proj.weight\n",
      "transformer.h.4.ln_1.weight\n",
      "transformer.h.4.attn.c_attn.weight\n",
      "transformer.h.4.attn.c_proj.weight\n",
      "transformer.h.4.ln_2.weight\n",
      "transformer.h.4.mlp.c_fc.weight\n",
      "transformer.h.4.mlp.c_proj.weight\n",
      "transformer.h.5.ln_1.weight\n",
      "transformer.h.5.attn.c_attn.weight\n",
      "transformer.h.5.attn.c_proj.weight\n",
      "transformer.h.5.ln_2.weight\n",
      "transformer.h.5.mlp.c_fc.weight\n",
      "transformer.h.5.mlp.c_proj.weight\n",
      "transformer.ln_f.weight\n"
     ]
    }
   ],
   "source": [
    "print(\"--- learnable parameters ---\")\n",
    "for pn, p in model.named_parameters():\n",
    "    if p.requires_grad:\n",
    "        print(pn)"
   ]
  },
  {
   "cell_type": "code",
   "execution_count": 12,
   "id": "ca5516da",
   "metadata": {},
   "outputs": [],
   "source": [
    "learning_rate = 1e-3  # maximum learning rate\n",
    "max_iters = 5000  # number of gradient update iterations\n",
    "lr_decay_iters = 5000  # number of iterations to decay the learning rate\n",
    "min_lr = 1e-4  # minimum learning rate\n",
    "weight_decay = 1e-2  # regularization\n",
    "beta1 = 0.9\n",
    "beta2 = 0.99\n",
    "warmup_iters = (\n",
    "    200  # number of iterations to linearly increase learning rate till maximum value\n",
    ")\n",
    "grad_clip = 1.0  # gradient clipping beyond this value\n",
    "decay_lr = True  # to enable decay of learning rate. If False, learning rate same for all the iterations"
   ]
  },
  {
   "cell_type": "code",
   "execution_count": 13,
   "id": "644f16f6",
   "metadata": {},
   "outputs": [
    {
     "name": "stdout",
     "output_type": "stream",
     "text": [
      "num decayed parameter tensors: 26, with 1,629,450 parameters\n",
      "num non-decayed parameter tensors: 13, with 1,950 parameters\n"
     ]
    }
   ],
   "source": [
    "optimizer = model.configure_optimizers(weight_decay, learning_rate, (beta1, beta2))\n",
    "if not from_scratch:\n",
    "    print(\"loading optimizer from checkpoint\")\n",
    "    optimizer.load_state_dict(checkpoint[\"optimizer\"])\n",
    "checkpoint = None  # free-up memory"
   ]
  },
  {
   "cell_type": "code",
   "execution_count": 14,
   "id": "5ad53266",
   "metadata": {},
   "outputs": [
    {
     "name": "stdout",
     "output_type": "stream",
     "text": [
      "tokens per iteration will be: 800\n"
     ]
    }
   ],
   "source": [
    "batch_size = 32\n",
    "gradient_accumulation_steps = 1  # to simulate large batch sizes\n",
    "tokens_per_iter = batch_size * gradient_accumulation_steps * config[\"block_size\"]\n",
    "print(f\"tokens per iteration will be: {tokens_per_iter:,}\")"
   ]
  },
  {
   "cell_type": "code",
   "execution_count": 15,
   "id": "74df2cb8",
   "metadata": {},
   "outputs": [],
   "source": [
    "eval_interval = 100  # evaluation and writing of models every eval_interval iterations\n",
    "do_log = False  # enable logging\n",
    "log_interval = 10  # log metrics about the model training every log_interval iterations\n",
    "eval_iters = 40  # number of batches to evaluate on during evaluation"
   ]
  },
  {
   "cell_type": "markdown",
   "id": "146c2b4e",
   "metadata": {
    "slideshow": {
     "slide_type": "fragment"
    }
   },
   "source": [
    "## Pre-training Input and target examples\n",
    "\n",
    "<img src=\"../assets/module_3/input_example.png\">"
   ]
  },
  {
   "cell_type": "code",
   "execution_count": 16,
   "id": "f92091a3",
   "metadata": {},
   "outputs": [
    {
     "data": {
      "text/plain": [
       "[['C{runa0=I}'],\n",
       " ['C{doriano0=O}'],\n",
       " ['Et0{rajwant}'],\n",
       " ['C{til0=O}'],\n",
       " ['Sme0{melina}'],\n",
       " ['Eha0{sumitha}'],\n",
       " ['G{rohitas0=M}'],\n",
       " ['Ssh0{shubhra}'],\n",
       " ['G{saifuddin0=M}'],\n",
       " ['Ei0{tamchi}']]"
      ]
     },
     "execution_count": 16,
     "metadata": {},
     "output_type": "execute_result"
    }
   ],
   "source": [
    "train_names[:10]"
   ]
  },
  {
   "cell_type": "code",
   "execution_count": 17,
   "id": "556780d5",
   "metadata": {},
   "outputs": [],
   "source": [
    "def get_batch(split, batch_index=None):\n",
    "    data = train_names if split == \"train\" else val_names\n",
    "    if batch_index is not None:\n",
    "        # creating batch specified by batch_index\n",
    "        max_batches = len(data) // batch_size\n",
    "        batch_index = batch_index % max_batches\n",
    "        ix = torch.arange(batch_index * batch_size, (batch_index + 1) * batch_size)\n",
    "    else:\n",
    "        # creating random batch\n",
    "        ix = torch.randint(len(data), (batch_size,))\n",
    "    pad_token = stoi[\"*\"]\n",
    "    if classification_task:\n",
    "        x = torch.ones(batch_size, config[\"block_size\"], dtype=torch.long) * pad_token\n",
    "        y = torch.ones(batch_size, 1, dtype=torch.long) * pad_token\n",
    "        for i, index in enumerate(ix):\n",
    "            encoded = encode(\"{\" + data[index][0])\n",
    "            # left padded\n",
    "            x[i][-len(encoded) :] = torch.Tensor(encoded)\n",
    "            y[i][0] = 1 if data[index][1] == \"male\" else 0\n",
    "            # y[i][0]=1 if data[index][1]==\"india\" else 0\n",
    "    else:\n",
    "        if pre_training:\n",
    "            x = (\n",
    "                torch.ones(batch_size, config[\"block_size\"], dtype=torch.long)\n",
    "                * pad_token\n",
    "            )\n",
    "            y = (\n",
    "                torch.ones(batch_size, config[\"block_size\"], dtype=torch.long)\n",
    "                * pad_token\n",
    "            )\n",
    "            for i, index in enumerate(ix):\n",
    "                encoded = encode(\"{\" + data[index][0] + \"}\")\n",
    "                # randomly selecting starting points in the block to ensure all position embeddings are learnt\n",
    "                start = torch.randint(\n",
    "                    config[\"block_size\"] - len(encoded) + 1, (1,)\n",
    "                ).item()\n",
    "                x[i][start : start + len(encoded)] = torch.Tensor(encoded)\n",
    "                y[i][start : start + len(encoded) - 1] = torch.Tensor(encoded[1:])\n",
    "        # instruction-tuning\n",
    "        elif \"0\" in data[0][0]:\n",
    "            x = (\n",
    "                torch.ones(\n",
    "                    batch_size,\n",
    "                    config[\"block_size\"] - prompt_vocab_size,\n",
    "                    dtype=torch.long,\n",
    "                )\n",
    "                * pad_token\n",
    "            )\n",
    "            y = (\n",
    "                torch.ones(batch_size, config[\"block_size\"], dtype=torch.long)\n",
    "                * pad_token\n",
    "            )\n",
    "            for i, index in enumerate(ix):\n",
    "                sep = data[index][0].index(\"0\")\n",
    "                first = encode(data[index][0][:sep])\n",
    "                second = encode(data[index][0][sep + 1 :])\n",
    "                encoded = first + second\n",
    "                x[i][: len(encoded)] = torch.Tensor(encoded)\n",
    "                y[i][\n",
    "                    prompt_vocab_size\n",
    "                    + len(first) : prompt_vocab_size\n",
    "                    + len(first)\n",
    "                    + len(second)\n",
    "                    - 1\n",
    "                ] = torch.Tensor(second[1:])\n",
    "        else:\n",
    "            # fine-tuning\n",
    "            x = (\n",
    "                torch.ones(\n",
    "                    batch_size,\n",
    "                    config[\"block_size\"] - prompt_vocab_size,\n",
    "                    dtype=torch.long,\n",
    "                )\n",
    "                * pad_token\n",
    "            )\n",
    "            y = (\n",
    "                torch.ones(batch_size, config[\"block_size\"], dtype=torch.long)\n",
    "                * pad_token\n",
    "            )\n",
    "            for i, index in enumerate(ix):\n",
    "                encoded = encode(\"{\" + data[index][0] + \"}\")\n",
    "                x[i][: len(encoded)] = torch.Tensor(encoded)\n",
    "                y[i][\n",
    "                    prompt_vocab_size : prompt_vocab_size + len(encoded) - 1\n",
    "                ] = torch.Tensor(encoded[1:])\n",
    "    x, y = x.to(device), y.to(device)\n",
    "    if prompt_vocab_size > 0:\n",
    "        prompt = torch.arange(prompt_vocab_size)\n",
    "        prompts = prompt.repeat(batch_size, 1)\n",
    "        prompts = prompts.to(device)\n",
    "    else:\n",
    "        prompts = None\n",
    "    return x, y, prompts"
   ]
  },
  {
   "cell_type": "code",
   "execution_count": 18,
   "id": "9b00740c",
   "metadata": {
    "scrolled": true
   },
   "outputs": [
    {
     "name": "stdout",
     "output_type": "stream",
     "text": [
      "C - *\n",
      "{ - *\n",
      "v - *\n",
      "i - *\n",
      "s - *\n",
      "h - *\n",
      "w - *\n",
      "a - *\n",
      "j - *\n",
      "i - *\n",
      "t - *\n",
      "= - I\n",
      "I - }\n",
      "} - *\n",
      "* - *\n",
      "* - *\n",
      "* - *\n",
      "* - *\n",
      "* - *\n",
      "* - *\n",
      "* - *\n",
      "* - *\n",
      "* - *\n",
      "* - *\n",
      "* - *\n"
     ]
    }
   ],
   "source": [
    "x, y, prompts = get_batch(\"train\")\n",
    "ip = x[0].tolist()\n",
    "op = y[0].tolist()\n",
    "if classification_task:\n",
    "    for i in range(len(ip)):\n",
    "        print(itos[ip[i]])\n",
    "    print(\"class\", op[0])\n",
    "else:\n",
    "    for i in range(prompt_vocab_size):\n",
    "        print(\"prompt\", i, \"-\", itos[op[i]])\n",
    "    for i in range(len(ip)):\n",
    "        print(itos[ip[i]], \"-\", itos[op[i + prompt_vocab_size]])"
   ]
  },
  {
   "cell_type": "code",
   "execution_count": 19,
   "id": "df8ac3ed",
   "metadata": {},
   "outputs": [],
   "source": [
    "@torch.no_grad()\n",
    "def estimate_loss():\n",
    "    out = {}\n",
    "    model.eval()\n",
    "    for split in [\"train\", \"val\"]:\n",
    "        losses = torch.zeros(eval_iters)\n",
    "        for k in range(eval_iters):\n",
    "            if split == \"val\":\n",
    "                X, Y, Prompts = get_batch(split, batch_index=k)\n",
    "            else:\n",
    "                X, Y, Prompts = get_batch(split)\n",
    "            with ctx:\n",
    "                logits, loss = model(X, Y, prompts=Prompts)\n",
    "            losses[k] = loss.item()\n",
    "        out[split] = losses.mean()\n",
    "    model.train()\n",
    "    return out\n",
    "\n",
    "\n",
    "def get_lr(it):\n",
    "    # 1) linear warmup for warmup_iters steps\n",
    "    if it < warmup_iters:\n",
    "        return learning_rate * it / warmup_iters\n",
    "    # 2) if it > lr_decay_iters, return min learning rate\n",
    "    if it > lr_decay_iters:\n",
    "        return min_lr\n",
    "    # 3) in between, use cosine decay down to min learning rate\n",
    "    decay_ratio = (it - warmup_iters) / (lr_decay_iters - warmup_iters)\n",
    "    assert 0 <= decay_ratio <= 1\n",
    "    coeff = 0.5 * (1.0 + math.cos(math.pi * decay_ratio))  # coeff ranges 0..1\n",
    "    return min_lr + coeff * (learning_rate - min_lr)"
   ]
  },
  {
   "cell_type": "code",
   "execution_count": 20,
   "id": "0de00bb4",
   "metadata": {},
   "outputs": [
    {
     "name": "stdout",
     "output_type": "stream",
     "text": [
      "step 0: train loss 5.4920, val loss 5.2628\n",
      "step 100: train loss 1.7823, val loss 1.8982\n",
      "saving checkpoint to best_models/instruction_tuning.pt\n",
      "step 200: train loss 1.6045, val loss 1.6954\n",
      "saving checkpoint to best_models/instruction_tuning.pt\n",
      "step 300: train loss 1.5709, val loss 1.6988\n",
      "step 400: train loss 1.5534, val loss 1.6935\n",
      "saving checkpoint to best_models/instruction_tuning.pt\n",
      "step 500: train loss 1.5041, val loss 1.6831\n",
      "saving checkpoint to best_models/instruction_tuning.pt\n",
      "step 600: train loss 1.4520, val loss 1.6212\n",
      "saving checkpoint to best_models/instruction_tuning.pt\n",
      "step 700: train loss 1.4222, val loss 1.5686\n",
      "saving checkpoint to best_models/instruction_tuning.pt\n",
      "step 800: train loss 1.3494, val loss 1.5514\n",
      "saving checkpoint to best_models/instruction_tuning.pt\n",
      "step 900: train loss 1.3708, val loss 1.5443\n",
      "saving checkpoint to best_models/instruction_tuning.pt\n",
      "step 1000: train loss 1.3626, val loss 1.5333\n",
      "saving checkpoint to best_models/instruction_tuning.pt\n",
      "step 1100: train loss 1.3634, val loss 1.5335\n",
      "step 1200: train loss 1.2869, val loss 1.5272\n",
      "saving checkpoint to best_models/instruction_tuning.pt\n",
      "step 1300: train loss 1.3217, val loss 1.5258\n",
      "saving checkpoint to best_models/instruction_tuning.pt\n",
      "step 1400: train loss 1.3462, val loss 1.5234\n",
      "saving checkpoint to best_models/instruction_tuning.pt\n",
      "step 1500: train loss 1.3172, val loss 1.5314\n",
      "step 1600: train loss 1.2869, val loss 1.5233\n",
      "saving checkpoint to best_models/instruction_tuning.pt\n",
      "step 1700: train loss 1.2638, val loss 1.5027\n",
      "saving checkpoint to best_models/instruction_tuning.pt\n",
      "step 1800: train loss 1.1860, val loss 1.4423\n",
      "saving checkpoint to best_models/instruction_tuning.pt\n",
      "step 1900: train loss 1.1952, val loss 1.4161\n",
      "saving checkpoint to best_models/instruction_tuning.pt\n",
      "step 2000: train loss 1.1573, val loss 1.4092\n",
      "saving checkpoint to best_models/instruction_tuning.pt\n",
      "step 2100: train loss 1.1642, val loss 1.4136\n",
      "step 2200: train loss 1.1546, val loss 1.3965\n",
      "saving checkpoint to best_models/instruction_tuning.pt\n",
      "step 2300: train loss 1.1420, val loss 1.4015\n",
      "step 2400: train loss 1.1126, val loss 1.3979\n",
      "step 2500: train loss 1.1285, val loss 1.3854\n",
      "saving checkpoint to best_models/instruction_tuning.pt\n",
      "step 2600: train loss 1.1064, val loss 1.3869\n",
      "step 2700: train loss 1.1247, val loss 1.3779\n",
      "saving checkpoint to best_models/instruction_tuning.pt\n",
      "step 2800: train loss 1.1036, val loss 1.3789\n",
      "step 2900: train loss 1.0635, val loss 1.3739\n",
      "saving checkpoint to best_models/instruction_tuning.pt\n",
      "step 3000: train loss 1.1185, val loss 1.3787\n",
      "step 3100: train loss 1.0940, val loss 1.3725\n",
      "saving checkpoint to best_models/instruction_tuning.pt\n",
      "step 3200: train loss 1.0873, val loss 1.3710\n",
      "saving checkpoint to best_models/instruction_tuning.pt\n",
      "step 3300: train loss 1.0574, val loss 1.3750\n",
      "step 3400: train loss 1.0567, val loss 1.3729\n",
      "step 3500: train loss 1.0809, val loss 1.3822\n",
      "step 3600: train loss 1.0723, val loss 1.3717\n",
      "step 3700: train loss 1.0410, val loss 1.3688\n",
      "saving checkpoint to best_models/instruction_tuning.pt\n",
      "step 3800: train loss 1.0349, val loss 1.3638\n",
      "saving checkpoint to best_models/instruction_tuning.pt\n",
      "step 3900: train loss 1.0607, val loss 1.3632\n",
      "saving checkpoint to best_models/instruction_tuning.pt\n",
      "step 4000: train loss 1.0510, val loss 1.3640\n",
      "step 4100: train loss 1.0378, val loss 1.3649\n",
      "step 4200: train loss 1.0362, val loss 1.3672\n",
      "step 4300: train loss 1.0458, val loss 1.3690\n",
      "step 4400: train loss 1.0246, val loss 1.3689\n",
      "step 4500: train loss 1.0147, val loss 1.3671\n",
      "step 4600: train loss 1.0049, val loss 1.3678\n",
      "step 4700: train loss 1.0405, val loss 1.3660\n",
      "step 4800: train loss 1.0192, val loss 1.3666\n",
      "step 4900: train loss 1.0578, val loss 1.3666\n",
      "step 5000: train loss 1.0339, val loss 1.3666\n"
     ]
    }
   ],
   "source": [
    "X, Y, Prompts = get_batch(\"train\")  # fetch the very first batch\n",
    "t0 = time.time()\n",
    "while True:\n",
    "    # determine and set the learning rate for this iteration\n",
    "    lr = get_lr(iter_num) if decay_lr else learning_rate\n",
    "    for param_group in optimizer.param_groups:\n",
    "        param_group[\"lr\"] = lr\n",
    "\n",
    "    # evaluate the loss on train/val sets and write checkpoints\n",
    "    if iter_num % eval_interval == 0:\n",
    "        losses = estimate_loss()\n",
    "        print(\n",
    "            f\"step {iter_num}: train loss {losses['train']:.4f}, val loss {losses['val']:.4f}\"\n",
    "        )\n",
    "        if not eval_only and (losses[\"val\"] < best_val_loss or always_save_checkpoint):\n",
    "            best_val_loss = losses[\"val\"]\n",
    "            if iter_num > 0:\n",
    "                checkpoint = {\n",
    "                    \"model\": model.state_dict(),\n",
    "                    \"optimizer\": optimizer.state_dict(),\n",
    "                    \"iter_num\": iter_num,\n",
    "                    \"best_val_loss\": best_val_loss,\n",
    "                    \"config\": config,\n",
    "                }\n",
    "                print(f\"saving checkpoint to {MODEL_DIR+OUT_CHECKPOINT}\")\n",
    "                torch.save(checkpoint, MODEL_DIR + OUT_CHECKPOINT)\n",
    "    if eval_only:\n",
    "        break\n",
    "\n",
    "    for micro_step in range(gradient_accumulation_steps):\n",
    "        with ctx:\n",
    "            # forward pass\n",
    "            logits, loss = model(X, Y, prompts=Prompts)\n",
    "            if gradient_accumulation_steps > 1:\n",
    "                # scaling loss in case of gradient accumulation\n",
    "                loss = loss / gradient_accumulation_steps\n",
    "        X, Y, Prompts = get_batch(\"train\")\n",
    "        # backward pass. And upscaling the loss if gradient scaling enabled\n",
    "        scaler.scale(loss).backward()\n",
    "    # clip the gradient\n",
    "    if grad_clip != 0.0:\n",
    "        # downscaling the loss before clipping gradients\n",
    "        scaler.unscale_(optimizer)\n",
    "        # clipping gradients\n",
    "        torch.nn.utils.clip_grad_norm_(model.parameters(), grad_clip)\n",
    "    # step the optimizer and unscale loss if gradient clipping disabled\n",
    "    scaler.step(optimizer)\n",
    "    scaler.update()\n",
    "    # flush gradients and free-up memory\n",
    "    optimizer.zero_grad(set_to_none=True)\n",
    "\n",
    "    # timing and logging\n",
    "    t1 = time.time()\n",
    "    dt = t1 - t0\n",
    "    t0 = t1\n",
    "    if do_log and iter_num % log_interval == 0:\n",
    "        # multiply loss to account for division incase of gradient accumulation\n",
    "        lossf = loss.item() * gradient_accumulation_steps\n",
    "        print(f\"iter {iter_num}: loss {lossf:.4f}, time {dt*1000:.2f}ms\")\n",
    "    iter_num += 1\n",
    "\n",
    "    # termination conditions\n",
    "    if iter_num > max_iters:\n",
    "        break"
   ]
  },
  {
   "cell_type": "code",
   "execution_count": 21,
   "id": "33dbc4ef",
   "metadata": {},
   "outputs": [
    {
     "name": "stdout",
     "output_type": "stream",
     "text": [
      "best val loss: 1.36\n"
     ]
    }
   ],
   "source": [
    "print(\"best val loss:\", round(best_val_loss.item(), 2))"
   ]
  },
  {
   "cell_type": "code",
   "execution_count": null,
   "id": "6cbd5ea8",
   "metadata": {},
   "outputs": [],
   "source": []
  }
 ],
 "metadata": {
  "kernelspec": {
   "display_name": "Python 3 (ipykernel)",
   "language": "python",
   "name": "python3"
  },
  "language_info": {
   "codemirror_mode": {
    "name": "ipython",
    "version": 3
   },
   "file_extension": ".py",
   "mimetype": "text/x-python",
   "name": "python",
   "nbconvert_exporter": "python",
   "pygments_lexer": "ipython3",
   "version": "3.10.8"
  }
 },
 "nbformat": 4,
 "nbformat_minor": 5
}
