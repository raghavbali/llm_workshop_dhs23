{
 "cells": [
  {
   "cell_type": "code",
   "execution_count": 1,
   "id": "d9ed5ce5",
   "metadata": {},
   "outputs": [],
   "source": [
    "import os,time,math,pickle,random\n",
    "import numpy as np,pandas as pd"
   ]
  },
  {
   "cell_type": "code",
   "execution_count": 2,
   "id": "2c658cfb",
   "metadata": {},
   "outputs": [
    {
     "data": {
      "text/html": [
       "<div>\n",
       "<style scoped>\n",
       "    .dataframe tbody tr th:only-of-type {\n",
       "        vertical-align: middle;\n",
       "    }\n",
       "\n",
       "    .dataframe tbody tr th {\n",
       "        vertical-align: top;\n",
       "    }\n",
       "\n",
       "    .dataframe thead th {\n",
       "        text-align: right;\n",
       "    }\n",
       "</style>\n",
       "<table border=\"1\" class=\"dataframe\">\n",
       "  <thead>\n",
       "    <tr style=\"text-align: right;\">\n",
       "      <th></th>\n",
       "      <th>country</th>\n",
       "      <th>nametype</th>\n",
       "      <th>gender</th>\n",
       "      <th>name</th>\n",
       "      <th>length</th>\n",
       "    </tr>\n",
       "  </thead>\n",
       "  <tbody>\n",
       "    <tr>\n",
       "      <th>0</th>\n",
       "      <td>india</td>\n",
       "      <td>firstname</td>\n",
       "      <td>male</td>\n",
       "      <td>rahul</td>\n",
       "      <td>5</td>\n",
       "    </tr>\n",
       "    <tr>\n",
       "      <th>1</th>\n",
       "      <td>india</td>\n",
       "      <td>firstname</td>\n",
       "      <td>male</td>\n",
       "      <td>md</td>\n",
       "      <td>2</td>\n",
       "    </tr>\n",
       "    <tr>\n",
       "      <th>2</th>\n",
       "      <td>india</td>\n",
       "      <td>firstname</td>\n",
       "      <td>male</td>\n",
       "      <td>ajay</td>\n",
       "      <td>4</td>\n",
       "    </tr>\n",
       "    <tr>\n",
       "      <th>3</th>\n",
       "      <td>india</td>\n",
       "      <td>firstname</td>\n",
       "      <td>male</td>\n",
       "      <td>sanjay</td>\n",
       "      <td>6</td>\n",
       "    </tr>\n",
       "    <tr>\n",
       "      <th>4</th>\n",
       "      <td>india</td>\n",
       "      <td>firstname</td>\n",
       "      <td>male</td>\n",
       "      <td>sunil</td>\n",
       "      <td>5</td>\n",
       "    </tr>\n",
       "    <tr>\n",
       "      <th>...</th>\n",
       "      <td>...</td>\n",
       "      <td>...</td>\n",
       "      <td>...</td>\n",
       "      <td>...</td>\n",
       "      <td>...</td>\n",
       "    </tr>\n",
       "    <tr>\n",
       "      <th>413068</th>\n",
       "      <td>indonesia</td>\n",
       "      <td>firstname</td>\n",
       "      <td>female</td>\n",
       "      <td>ummisideh</td>\n",
       "      <td>9</td>\n",
       "    </tr>\n",
       "    <tr>\n",
       "      <th>413069</th>\n",
       "      <td>indonesia</td>\n",
       "      <td>firstname</td>\n",
       "      <td>female</td>\n",
       "      <td>liestyanti</td>\n",
       "      <td>10</td>\n",
       "    </tr>\n",
       "    <tr>\n",
       "      <th>413070</th>\n",
       "      <td>indonesia</td>\n",
       "      <td>firstname</td>\n",
       "      <td>female</td>\n",
       "      <td>karwur</td>\n",
       "      <td>6</td>\n",
       "    </tr>\n",
       "    <tr>\n",
       "      <th>413071</th>\n",
       "      <td>indonesia</td>\n",
       "      <td>firstname</td>\n",
       "      <td>female</td>\n",
       "      <td>poerwa</td>\n",
       "      <td>6</td>\n",
       "    </tr>\n",
       "    <tr>\n",
       "      <th>413072</th>\n",
       "      <td>indonesia</td>\n",
       "      <td>firstname</td>\n",
       "      <td>female</td>\n",
       "      <td>sulistiari</td>\n",
       "      <td>10</td>\n",
       "    </tr>\n",
       "  </tbody>\n",
       "</table>\n",
       "<p>263477 rows × 5 columns</p>\n",
       "</div>"
      ],
      "text/plain": [
       "          country   nametype  gender        name  length\n",
       "0           india  firstname    male       rahul       5\n",
       "1           india  firstname    male          md       2\n",
       "2           india  firstname    male        ajay       4\n",
       "3           india  firstname    male      sanjay       6\n",
       "4           india  firstname    male       sunil       5\n",
       "...           ...        ...     ...         ...     ...\n",
       "413068  indonesia  firstname  female   ummisideh       9\n",
       "413069  indonesia  firstname  female  liestyanti      10\n",
       "413070  indonesia  firstname  female      karwur       6\n",
       "413071  indonesia  firstname  female      poerwa       6\n",
       "413072  indonesia  firstname  female  sulistiari      10\n",
       "\n",
       "[263477 rows x 5 columns]"
      ]
     },
     "execution_count": 2,
     "metadata": {},
     "output_type": "execute_result"
    }
   ],
   "source": [
    "data_path=\"/Users/amarlalwani/Desktop/nlp/lm/data/names/\"\n",
    "df=pd.read_csv(data_path+\"dataset.csv\")\n",
    "df.dropna(inplace=True)\n",
    "df[\"length\"]=df[\"name\"].apply(lambda x:len(x))\n",
    "df=df[(df[\"nametype\"]==\"firstname\")&(df[\"length\"]<15)]\n",
    "df"
   ]
  },
  {
   "cell_type": "code",
   "execution_count": 3,
   "id": "7e1031c0",
   "metadata": {},
   "outputs": [],
   "source": [
    "dataset=[]"
   ]
  },
  {
   "cell_type": "code",
   "execution_count": 5,
   "id": "6eaa1bbd",
   "metadata": {},
   "outputs": [],
   "source": [
    "n_per_task=5000"
   ]
  },
  {
   "cell_type": "code",
   "execution_count": null,
   "id": "fa5dd8fb",
   "metadata": {},
   "outputs": [],
   "source": [
    "#startswith\n",
    "rows=df.sample(n_per_task)\n",
    "for index, row in rows.iterrows():\n",
    "    prefix_size=min(len(row[\"name\"]),random.choice([1,2,3]))\n",
    "    prefix=row[\"name\"][:prefix_size]\n",
    "    datapoint=\"S\"+\"=\"+prefix+\"!\"+\"|\"+row[\"name\"]+\"|\"\n",
    "    dataset.append(datapoint)"
   ]
  },
  {
   "cell_type": "code",
   "execution_count": null,
   "id": "84cf2be9",
   "metadata": {},
   "outputs": [],
   "source": [
    "#endswith\n",
    "rows=df.sample(n_per_task)\n",
    "for index, row in rows.iterrows():\n",
    "    suffix_size=min(len(row[\"name\"]),random.choice([1,2,3]))\n",
    "    suffix=row[\"name\"][-suffix_size:]\n",
    "    datapoint=\"E\"+\"=\"+suffix+\"!\"+\"|\"+row[\"name\"]+\"|\"\n",
    "    dataset.append(datapoint)"
   ]
  },
  {
   "cell_type": "code",
   "execution_count": null,
   "id": "dce28953",
   "metadata": {},
   "outputs": [],
   "source": [
    "#substring\n",
    "rows=df.sample(n_per_task)\n",
    "for index, row in rows.iterrows():\n",
    "    ss_size=min(len(row[\"name\"]),random.choice([2,3]))\n",
    "    ss_index=random.choice(np.arange(len(row[\"name\"])-ss_size+1))\n",
    "    ss=row[\"name\"][ss_index:ss_index+ss_size]\n",
    "    datapoint=\"W\"+\"=\"+ss+\"!\"+\"|\"+row[\"name\"]+\"|\"\n",
    "    dataset.append(datapoint)"
   ]
  },
  {
   "cell_type": "code",
   "execution_count": null,
   "id": "6e2893ed",
   "metadata": {},
   "outputs": [],
   "source": [
    "#includes the following characters\n",
    "rows=df.sample(n_per_task)\n",
    "for index, row in rows.iterrows():\n",
    "    vocab=list(set(list(row[\"name\"])))\n",
    "    size=min(len(vocab),random.choice([1,2,3]))\n",
    "    chars=random.sample(vocab,size)\n",
    "    datapoint=\"I\"+\"=\"+\"\".join(chars)+\"!\"+\"|\"+row[\"name\"]+\"|\"\n",
    "    dataset.append(datapoint)"
   ]
  },
  {
   "cell_type": "code",
   "execution_count": null,
   "id": "29a9b7c3",
   "metadata": {},
   "outputs": [],
   "source": [
    "#excludes the following characters\n",
    "rows=df.sample(n_per_task)\n",
    "for index, row in rows.iterrows():\n",
    "    universe=list(\"abcdefghijklmnopqrstuvwxyz\")\n",
    "    vocab=list(set(universe).difference(set(list(row[\"name\"]))))\n",
    "    size=min(len(vocab),random.choice([1,2,3]))\n",
    "    chars=random.sample(vocab,size)\n",
    "    datapoint=\"X\"+\"=\"+\"\".join(chars)+\"!\"+\"|\"+row[\"name\"]+\"|\"\n",
    "    dataset.append(datapoint)"
   ]
  },
  {
   "cell_type": "code",
   "execution_count": 6,
   "id": "11c3519d",
   "metadata": {},
   "outputs": [],
   "source": [
    "#gender\n",
    "rows=df[df[\"country\"]==\"india\"].sample(2*n_per_task)\n",
    "for index, row in rows.iterrows():\n",
    "    datapoint=\"G\"+\"=\"+row[\"gender\"][0].upper()+\"!\"+\"|\"+row[\"name\"]+\"|\"\n",
    "    dataset.append(datapoint)"
   ]
  },
  {
   "cell_type": "code",
   "execution_count": null,
   "id": "de8ef40e",
   "metadata": {},
   "outputs": [],
   "source": [
    "countries={\n",
    "    \"india\":\"B\",\n",
    "    \"usa\":\"U\",\n",
    "    \"uk\":\"L\",\n",
    "    \"uae\":\"D\",\n",
    "    \"spain\":\"P\",\n",
    "    \"germany\":\"K\",\n",
    "    \"italy\":\"R\",\n",
    "    \"nigeria\":\"N\",\n",
    "    \"morocco\":\"A\",\n",
    "    \"hongkong\":\"H\",\n",
    "    \"singapore\":\"J\",\n",
    "    \"malaysia\":\"Y\",\n",
    "    \"mexico\":\"O\",\n",
    "    \"peru\":\"Q\",\n",
    "    \"netherlands\":\"T\",\n",
    "    \"southafrica\":\"Z\"\n",
    "}\n",
    "for country in countries:\n",
    "    if country not in [\"india\",\"peru\"]:\n",
    "        continue\n",
    "    rows=df[df[\"country\"]==country].sample(n_per_task)\n",
    "    for index,row in rows.iterrows():\n",
    "        datapoint=\"C\"+\"=\"+countries[country]+\"!\"+\"|\"+row[\"name\"]+\"|\"\n",
    "        dataset.append(datapoint)"
   ]
  },
  {
   "cell_type": "code",
   "execution_count": null,
   "id": "62bde6cd",
   "metadata": {},
   "outputs": [],
   "source": [
    "#likeness: generate similar name\n",
    "temp=[]\n",
    "names=df[\"name\"].tolist()\n",
    "while True:\n",
    "    n1,n2=random.sample(names,2)\n",
    "    ss_size=min(len(n1),len(n2),3)\n",
    "    n1_ss=set()\n",
    "    for i in range(len(n1)-ss_size+1):\n",
    "        n1_ss.add(n1[i:i+ss_size])\n",
    "    n2_ss=set()\n",
    "    for i in range(len(n2)-ss_size+1):\n",
    "        n2_ss.add(n2[i:i+ss_size])\n",
    "    if len(n1_ss.intersection(n2_ss))>0:\n",
    "        datapoint=\"V\"+\"=\"+n1+\"!\"+\"|\"+n2+\"|\"\n",
    "        temp.append(datapoint)\n",
    "    if len(temp)>=n_per_task:\n",
    "        dataset+=temp\n",
    "        break"
   ]
  },
  {
   "cell_type": "code",
   "execution_count": 7,
   "id": "49c7758d",
   "metadata": {},
   "outputs": [
    {
     "data": {
      "text/plain": [
       "10000"
      ]
     },
     "execution_count": 7,
     "metadata": {},
     "output_type": "execute_result"
    }
   ],
   "source": [
    "len(dataset)"
   ]
  },
  {
   "cell_type": "code",
   "execution_count": 8,
   "id": "2ca67ae1",
   "metadata": {},
   "outputs": [],
   "source": [
    "train_names=[]\n",
    "val_names=[]\n",
    "for name in dataset:\n",
    "    if random.random()<0.85:\n",
    "        train_names.append(name)\n",
    "    else:\n",
    "        val_names.append(name)"
   ]
  },
  {
   "cell_type": "code",
   "execution_count": 9,
   "id": "4d8b721d",
   "metadata": {},
   "outputs": [],
   "source": [
    "out_dir=\"instructions\"\n",
    "os.makedirs(out_dir, exist_ok=True)\n",
    "fp=open(os.path.join(out_dir, 'train.bin'),\"w\")\n",
    "fp.write(\"\\n\".join(train_names)+\"\\n\")\n",
    "fp.close()\n",
    "fp=open(os.path.join(out_dir, 'val.bin'),\"w\")\n",
    "fp.write(\"\\n\".join(val_names)+\"\\n\")\n",
    "fp.close()"
   ]
  },
  {
   "cell_type": "code",
   "execution_count": null,
   "id": "46b8abf0",
   "metadata": {},
   "outputs": [],
   "source": []
  }
 ],
 "metadata": {
  "kernelspec": {
   "display_name": "Python 3 (ipykernel)",
   "language": "python",
   "name": "python3"
  },
  "language_info": {
   "codemirror_mode": {
    "name": "ipython",
    "version": 3
   },
   "file_extension": ".py",
   "mimetype": "text/x-python",
   "name": "python",
   "nbconvert_exporter": "python",
   "pygments_lexer": "ipython3",
   "version": "3.10.8"
  }
 },
 "nbformat": 4,
 "nbformat_minor": 5
}
