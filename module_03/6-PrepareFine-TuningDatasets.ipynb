{
 "cells": [
  {
   "cell_type": "code",
   "execution_count": 1,
   "id": "a8a4bbab",
   "metadata": {},
   "outputs": [],
   "source": [
    "import os, time, math, pickle, random\n",
    "import numpy as np, pandas as pd"
   ]
  },
  {
   "cell_type": "code",
   "execution_count": 2,
   "id": "f8573a0a",
   "metadata": {},
   "outputs": [],
   "source": [
    "DATA_DIR = \"data/\""
   ]
  },
  {
   "cell_type": "code",
   "execution_count": 3,
   "id": "fa2870ac",
   "metadata": {},
   "outputs": [],
   "source": [
    "train_df = pd.read_csv(DATA_DIR + \"train.bin\")\n",
    "train_df[train_df[\"name\"].str.startswith(\"a\")].sample(10000)[[\"name\"]].to_csv(\n",
    "    DATA_DIR + \"startswith_a_train.bin\", index=False\n",
    ")\n",
    "val_df = pd.read_csv(DATA_DIR + \"val.bin\")\n",
    "val_df[val_df[\"name\"].str.startswith(\"a\")].sample(2000)[[\"name\"]].to_csv(\n",
    "    DATA_DIR + \"startswith_a_val.bin\", index=False\n",
    ")"
   ]
  },
  {
   "cell_type": "code",
   "execution_count": 4,
   "id": "9f59f45e",
   "metadata": {},
   "outputs": [],
   "source": [
    "train_df = pd.read_csv(DATA_DIR + \"train.bin\")\n",
    "train_df[train_df[\"name\"].str.endswith(\"a\")].sample(10000)[[\"name\"]].to_csv(\n",
    "    DATA_DIR + \"endswith_a_train.bin\", index=False\n",
    ")\n",
    "val_df = pd.read_csv(DATA_DIR + \"val.bin\")\n",
    "val_df[val_df[\"name\"].str.endswith(\"a\")].sample(2000)[[\"name\"]].to_csv(\n",
    "    DATA_DIR + \"endswith_a_val.bin\", index=False\n",
    ")"
   ]
  },
  {
   "cell_type": "code",
   "execution_count": 5,
   "id": "5583c9c8",
   "metadata": {},
   "outputs": [],
   "source": [
    "train_df = pd.read_csv(DATA_DIR + \"train.bin\")\n",
    "indian = train_df[train_df[\"country\"] == \"india\"].sample(3000)\n",
    "non_indian = train_df[train_df[\"country\"] != \"india\"].sample(10000)\n",
    "train_df = pd.concat([indian, non_indian])\n",
    "train_df.sample(frac=1)[[\"name\", \"country\"]].to_csv(\n",
    "    DATA_DIR + \"indian_classification_train.bin\", index=False\n",
    ")\n",
    "val_df = pd.read_csv(DATA_DIR + \"val.bin\")\n",
    "indian = val_df[val_df[\"country\"] == \"india\"].sample(500)\n",
    "non_indian = val_df[val_df[\"country\"] != \"india\"].sample(1500)\n",
    "val_df = pd.concat([indian, non_indian])\n",
    "val_df.sample(frac=1)[[\"name\", \"country\"]].to_csv(\n",
    "    DATA_DIR + \"indian_classification_val.bin\", index=False\n",
    ")"
   ]
  },
  {
   "cell_type": "code",
   "execution_count": 6,
   "id": "5c2d6164",
   "metadata": {},
   "outputs": [],
   "source": [
    "train_df = pd.read_csv(DATA_DIR + \"train.bin\")\n",
    "male = train_df[train_df[\"gender\"] == \"male\"].sample(6000)\n",
    "female = train_df[train_df[\"gender\"] == \"female\"].sample(4000)\n",
    "train_df = pd.concat([male, female])\n",
    "train_df.sample(frac=1)[[\"name\", \"gender\"]].to_csv(\n",
    "    DATA_DIR + \"gender_classification_train.bin\", index=False\n",
    ")\n",
    "val_df = pd.read_csv(DATA_DIR + \"val.bin\")\n",
    "male = val_df[val_df[\"gender\"] == \"male\"].sample(1200)\n",
    "female = val_df[val_df[\"gender\"] == \"female\"].sample(800)\n",
    "val_df = pd.concat([male, female])\n",
    "val_df.sample(frac=1)[[\"name\", \"gender\"]].to_csv(\n",
    "    DATA_DIR + \"gender_classification_val.bin\", index=False\n",
    ")"
   ]
  },
  {
   "cell_type": "code",
   "execution_count": 7,
   "id": "9c42df61",
   "metadata": {},
   "outputs": [],
   "source": [
    "data = []\n",
    "train_df = pd.read_csv(DATA_DIR + \"train.bin\")\n",
    "indian = train_df[train_df[\"country\"] == \"india\"]\n",
    "indian_male = indian[indian[\"gender\"] == \"male\"].sample(3000)\n",
    "indian_female = indian[indian[\"gender\"] == \"female\"].sample(2500)\n",
    "non_indian = train_df[train_df[\"country\"] != \"india\"]\n",
    "non_indian_male = non_indian[non_indian[\"gender\"] == \"male\"].sample(3000)\n",
    "non_indian_female = non_indian[non_indian[\"gender\"] == \"female\"].sample(2500)\n",
    "train_df = pd.concat([indian_male, indian_female, non_indian_male, non_indian_female])\n",
    "for index, row in train_df.iterrows():\n",
    "    prefix_size = min(len(row[\"name\"]), random.choice([1, 2]))\n",
    "    prefix = row[\"name\"][:prefix_size]\n",
    "    suffix_size = min(len(row[\"name\"]), random.choice([1, 2]))\n",
    "    suffix = row[\"name\"][-suffix_size:]\n",
    "    country = \"I\" if row[\"country\"] == \"india\" else \"O\"\n",
    "    gender = \"M\" if row[\"gender\"] == \"male\" else \"F\"\n",
    "    data.append(\"S\" + prefix + \"0\" + \"{\" + row[\"name\"] + \"}\")\n",
    "    data.append(\"E\" + suffix + \"0\" + \"{\" + row[\"name\"] + \"}\")\n",
    "    data.append(\"G\" + \"{\" + row[\"name\"] + \"0\" + \"=\" + gender + \"}\")\n",
    "    data.append(\"C\" + \"{\" + row[\"name\"] + \"0\" + \"=\" + country + \"}\")\n",
    "train_df = pd.DataFrame(data, columns=[\"name\"])\n",
    "train_df = train_df.sample(frac=1)\n",
    "train_df.to_csv(DATA_DIR + \"instruction_tuning_train.bin\", index=False)\n",
    "data = []\n",
    "val_df = pd.read_csv(DATA_DIR + \"val.bin\")\n",
    "indian = val_df[val_df[\"country\"] == \"india\"]\n",
    "indian_male = indian[indian[\"gender\"] == \"male\"].sample(600)\n",
    "indian_female = indian[indian[\"gender\"] == \"female\"].sample(400)\n",
    "non_indian = val_df[val_df[\"country\"] != \"india\"]\n",
    "non_indian_male = non_indian[non_indian[\"gender\"] == \"male\"].sample(600)\n",
    "non_indian_female = non_indian[non_indian[\"gender\"] == \"female\"].sample(400)\n",
    "val_df = pd.concat([indian_male, indian_female, non_indian_male, non_indian_female])\n",
    "for index, row in val_df.iterrows():\n",
    "    prefix_size = min(len(row[\"name\"]), random.choice([1, 2]))\n",
    "    prefix = row[\"name\"][:prefix_size]\n",
    "    suffix_size = min(len(row[\"name\"]), random.choice([1, 2]))\n",
    "    suffix = row[\"name\"][-suffix_size:]\n",
    "    country = \"I\" if row[\"country\"] == \"india\" else \"O\"\n",
    "    gender = \"M\" if row[\"gender\"] == \"male\" else \"F\"\n",
    "    data.append(\"S\" + prefix + \"0\" + \"{\" + row[\"name\"] + \"}\")\n",
    "    data.append(\"E\" + suffix + \"0\" + \"{\" + row[\"name\"] + \"}\")\n",
    "    data.append(\"G\" + \"{\" + row[\"name\"] + \"0\" + \"=\" + gender + \"}\")\n",
    "    data.append(\"C\" + \"{\" + row[\"name\"] + \"0\" + \"=\" + country + \"}\")\n",
    "val_df = pd.DataFrame(data, columns=[\"name\"])\n",
    "val_df = val_df.sample(frac=1)\n",
    "val_df.to_csv(DATA_DIR + \"instruction_tuning_val.bin\", index=False)"
   ]
  },
  {
   "cell_type": "code",
   "execution_count": 8,
   "id": "c895962f",
   "metadata": {},
   "outputs": [],
   "source": [
    "train_df = pd.read_csv(DATA_DIR + \"train.bin\").sample(10000)\n",
    "train_df[\"name\"] = train_df[\"name\"].apply(lambda x: \"{\" + x + \"0\" + \"=\" + x[0] + \"}\")\n",
    "train_df[[\"name\"]].to_csv(DATA_DIR + \"first_char_train.bin\", index=False)\n",
    "val_df = pd.read_csv(DATA_DIR + \"val.bin\").sample(2000)\n",
    "val_df[\"name\"] = val_df[\"name\"].apply(lambda x: \"{\" + x + \"0\" + \"=\" + x[0] + \"}\")\n",
    "val_df[[\"name\"]].to_csv(DATA_DIR + \"first_char_val.bin\", index=False)"
   ]
  },
  {
   "cell_type": "code",
   "execution_count": 9,
   "id": "a57a473e",
   "metadata": {},
   "outputs": [],
   "source": [
    "train_df = pd.read_csv(DATA_DIR + \"train.bin\").sample(10000)\n",
    "train_df[\"name\"] = train_df[\"name\"].apply(lambda x: \"{\" + x + \"0\" + \"=\" + x[-1] + \"}\")\n",
    "train_df[[\"name\"]].to_csv(DATA_DIR + \"last_char_train.bin\", index=False)\n",
    "val_df = pd.read_csv(DATA_DIR + \"val.bin\").sample(2000)\n",
    "val_df[\"name\"] = val_df[\"name\"].apply(lambda x: \"{\" + x + \"0\" + \"=\" + x[-1] + \"}\")\n",
    "val_df[[\"name\"]].to_csv(DATA_DIR + \"last_char_val.bin\", index=False)"
   ]
  }
 ],
 "metadata": {
  "kernelspec": {
   "display_name": "Python 3 (ipykernel)",
   "language": "python",
   "name": "python3"
  },
  "language_info": {
   "codemirror_mode": {
    "name": "ipython",
    "version": 3
   },
   "file_extension": ".py",
   "mimetype": "text/x-python",
   "name": "python",
   "nbconvert_exporter": "python",
   "pygments_lexer": "ipython3",
   "version": "3.10.8"
  }
 },
 "nbformat": 4,
 "nbformat_minor": 5
}
