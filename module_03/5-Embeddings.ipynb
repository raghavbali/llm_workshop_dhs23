{
 "cells": [
  {
   "cell_type": "code",
   "execution_count": null,
   "id": "d1211262",
   "metadata": {},
   "outputs": [],
   "source": [
    "import os, pickle, torch\n",
    "from model_exercise1_solution import GPT\n",
    "from matplotlib import pyplot as plt"
   ]
  },
  {
   "cell_type": "code",
   "execution_count": null,
   "id": "e0416f50",
   "metadata": {},
   "outputs": [],
   "source": [
    "DATA_DIR = \"data/\"\n",
    "MODEL_DIR = \"best_models/\"\n",
    "CHECKPOINT = \"base.pt\"\n",
    "device = \"mps\"\n",
    "device = \"cuda\" if torch.cuda.is_available() else \"cpu\"\n",
    "print(\"device =\", device)"
   ]
  },
  {
   "cell_type": "code",
   "execution_count": null,
   "id": "de6737fa",
   "metadata": {},
   "outputs": [],
   "source": [
    "checkpoint = torch.load(MODEL_DIR + CHECKPOINT, map_location=device)\n",
    "config = checkpoint[\"config\"]\n",
    "model = GPT(config)\n",
    "state_dict = checkpoint[\"model\"]\n",
    "unwanted_prefix = \"_orig_mod.\"\n",
    "for k, v in list(state_dict.items()):\n",
    "    if k.startswith(unwanted_prefix):\n",
    "        state_dict[k[len(unwanted_prefix) :]] = state_dict.pop(k)\n",
    "model.load_state_dict(state_dict)\n",
    "print(\"best val loss =\", checkpoint[\"best_val_loss\"].item())"
   ]
  },
  {
   "cell_type": "code",
   "execution_count": null,
   "id": "f083b8eb",
   "metadata": {},
   "outputs": [],
   "source": [
    "with open(DATA_DIR + \"meta.pkl\", \"rb\") as f:\n",
    "    meta = pickle.load(f)\n",
    "stoi, itos = meta[\"stoi\"], meta[\"itos\"]\n",
    "encode = lambda s: [stoi[c] for c in s]\n",
    "decode = lambda l: \"\".join([itos[i] for i in l])"
   ]
  },
  {
   "cell_type": "code",
   "execution_count": null,
   "id": "e9a0570d",
   "metadata": {},
   "outputs": [],
   "source": [
    "dims = torch.randint(config[\"n_embd\"], (1, 2))\n",
    "dim1, dim2 = dims[0, 0].item(), dims[0, 1].item()\n",
    "for c_i in range(26):\n",
    "    x, y = (\n",
    "        model.transformer.wte.weight[c_i, dim1].item(),\n",
    "        model.transformer.wte.weight[c_i, dim2].item(),\n",
    "    )\n",
    "    plt.scatter(x, y, marker=\"x\", color=\"red\", s=4)\n",
    "    plt.text(x + 0.001, y + 0.001, itos[c_i], fontsize=7)\n",
    "plt.xlabel(\"dimension: \" + str(dim1))\n",
    "plt.ylabel(\"dimension: \" + str(dim2))\n",
    "plt.show()"
   ]
  },
  {
   "cell_type": "code",
   "execution_count": null,
   "id": "6d7f1105",
   "metadata": {},
   "outputs": [],
   "source": [
    "dims = torch.randint(config[\"n_embd\"], (1, 2))\n",
    "dim1, dim2 = dims[0, 0].item(), dims[0, 1].item()\n",
    "for c_i in range(26):\n",
    "    x, y = (\n",
    "        model.transformer.wte.weight[c_i, dim1].item(),\n",
    "        model.transformer.wte.weight[c_i, dim2].item(),\n",
    "    )\n",
    "    plt.scatter(x, y, marker=\"x\", color=\"red\", s=4)\n",
    "    plt.text(x + 0.001, y + 0.001, itos[c_i], fontsize=7)\n",
    "plt.xlabel(\"dimension: \" + str(dim1))\n",
    "plt.ylabel(\"dimension: \" + str(dim2))\n",
    "plt.show()"
   ]
  },
  {
   "cell_type": "code",
   "execution_count": null,
   "id": "d5d4698e",
   "metadata": {},
   "outputs": [],
   "source": [
    "dims = torch.randint(config[\"n_embd\"], (1, 2))\n",
    "dim1, dim2 = dims[0, 0].item(), dims[0, 1].item()\n",
    "for c_i in range(26):\n",
    "    x, y = (\n",
    "        model.transformer.wte.weight[c_i, dim1].item(),\n",
    "        model.transformer.wte.weight[c_i, dim2].item(),\n",
    "    )\n",
    "    plt.scatter(x, y, marker=\"x\", color=\"red\", s=4)\n",
    "    plt.text(x + 0.001, y + 0.001, itos[c_i], fontsize=7)\n",
    "plt.xlabel(\"dimension: \" + str(dim1))\n",
    "plt.ylabel(\"dimension: \" + str(dim2))\n",
    "plt.show()"
   ]
  },
  {
   "cell_type": "code",
   "execution_count": null,
   "id": "0b94010e",
   "metadata": {},
   "outputs": [],
   "source": [
    "dims = torch.randint(config[\"n_embd\"], (1, 2))\n",
    "dim1, dim2 = dims[0, 0].item(), dims[0, 1].item()\n",
    "for c_i in range(26):\n",
    "    x, y = (\n",
    "        model.transformer.wte.weight[c_i, dim1].item(),\n",
    "        model.transformer.wte.weight[c_i, dim2].item(),\n",
    "    )\n",
    "    plt.scatter(x, y, marker=\"x\", color=\"red\", s=4)\n",
    "    plt.text(x + 0.001, y + 0.001, itos[c_i], fontsize=7)\n",
    "plt.xlabel(\"dimension: \" + str(dim1))\n",
    "plt.ylabel(\"dimension: \" + str(dim2))\n",
    "plt.show()"
   ]
  },
  {
   "cell_type": "code",
   "execution_count": null,
   "id": "22996e0c",
   "metadata": {},
   "outputs": [],
   "source": [
    "for c_i in range(26):\n",
    "    sim = {}\n",
    "    for c_j in range(26):\n",
    "        if c_j == c_i:\n",
    "            continue\n",
    "        sim[c_j] = round(\n",
    "            torch.dot(\n",
    "                model.transformer.wte.weight[c_i], model.transformer.wte.weight[c_j]\n",
    "            ).item(),\n",
    "            2,\n",
    "        )\n",
    "    sim = sorted(sim.items(), key=lambda item: item[1], reverse=True)\n",
    "    print(\n",
    "        \"similar chars to \"\n",
    "        + itos[c_i]\n",
    "        + \": \"\n",
    "        + itos[sim[0][0]]\n",
    "        + \"(\"\n",
    "        + str(sim[0][1])\n",
    "        + \")\"\n",
    "        + \", \"\n",
    "        + itos[sim[1][0]]\n",
    "        + \"(\"\n",
    "        + str(sim[1][1])\n",
    "        + \")\"\n",
    "        + \", \"\n",
    "        + itos[sim[2][0]]\n",
    "        + \"(\"\n",
    "        + str(sim[2][1])\n",
    "        + \")\"\n",
    "    )"
   ]
  },
  {
   "cell_type": "code",
   "execution_count": null,
   "id": "7905e22f",
   "metadata": {},
   "outputs": [],
   "source": [
    "stoi[\"{\"], stoi[\"}\"]"
   ]
  },
  {
   "cell_type": "code",
   "execution_count": null,
   "id": "b6a0a7bd",
   "metadata": {},
   "outputs": [],
   "source": [
    "for c_i in [27, 28]:\n",
    "    sim = {}\n",
    "    for c_j in range(26):\n",
    "        if c_j == c_i:\n",
    "            continue\n",
    "        sim[c_j] = round(\n",
    "            torch.dot(\n",
    "                model.transformer.wte.weight[c_i], model.transformer.wte.weight[c_j]\n",
    "            ).item(),\n",
    "            2,\n",
    "        )\n",
    "    sim = sorted(sim.items(), key=lambda item: item[1], reverse=True)\n",
    "    print(\n",
    "        \"similar chars to \"\n",
    "        + itos[c_i]\n",
    "        + \": \"\n",
    "        + itos[sim[0][0]]\n",
    "        + \"(\"\n",
    "        + str(sim[0][1])\n",
    "        + \")\"\n",
    "        + \", \"\n",
    "        + itos[sim[1][0]]\n",
    "        + \"(\"\n",
    "        + str(sim[1][1])\n",
    "        + \")\"\n",
    "        + \", \"\n",
    "        + itos[sim[2][0]]\n",
    "        + \"(\"\n",
    "        + str(sim[2][1])\n",
    "        + \")\"\n",
    "    )"
   ]
  },
  {
   "cell_type": "code",
   "execution_count": null,
   "id": "4389d8c3",
   "metadata": {},
   "outputs": [],
   "source": []
  }
 ],
 "metadata": {
  "kernelspec": {
   "display_name": "Python 3 (ipykernel)",
   "language": "python",
   "name": "python3"
  },
  "language_info": {
   "codemirror_mode": {
    "name": "ipython",
    "version": 3
   },
   "file_extension": ".py",
   "mimetype": "text/x-python",
   "name": "python",
   "nbconvert_exporter": "python",
   "pygments_lexer": "ipython3",
   "version": "3.10.8"
  }
 },
 "nbformat": 4,
 "nbformat_minor": 5
}
