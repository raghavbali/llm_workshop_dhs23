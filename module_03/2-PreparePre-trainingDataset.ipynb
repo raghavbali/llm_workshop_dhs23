{
 "cells": [
  {
   "cell_type": "markdown",
   "id": "1081a795",
   "metadata": {},
   "source": [
    "# Prepares the dataset for pre-training. This includes cleaning of dataset,  creating vocabulary, defining encoder and decoder functions."
   ]
  },
  {
   "cell_type": "code",
   "execution_count": 1,
   "id": "bc0b14a0",
   "metadata": {},
   "outputs": [],
   "source": [
    "import os, time, math, pickle\n",
    "import numpy as np, pandas as pd"
   ]
  },
  {
   "cell_type": "code",
   "execution_count": 2,
   "id": "10b47e14",
   "metadata": {},
   "outputs": [],
   "source": [
    "DATA_DIR = \"data/\"\n",
    "seed = 999"
   ]
  },
  {
   "cell_type": "markdown",
   "id": "46340c32",
   "metadata": {},
   "source": [
    "Cleaning the data"
   ]
  },
  {
   "cell_type": "code",
   "execution_count": 3,
   "id": "80270a78",
   "metadata": {},
   "outputs": [
    {
     "name": "stdout",
     "output_type": "stream",
     "text": [
      "length of dataset in characters = 1579033\n"
     ]
    }
   ],
   "source": [
    "df = pd.read_csv(DATA_DIR + \"dataset.csv\")\n",
    "df.dropna(inplace=True)\n",
    "df[\"length\"] = df[\"name\"].apply(lambda x: len(x))\n",
    "df = df[(df[\"nametype\"] == \"firstname\") & (df[\"length\"] < 15) & (df[\"length\"] > 2)]\n",
    "names = df[\"name\"].tolist()\n",
    "print(\"length of dataset in characters =\", sum([len(x) for x in names]))"
   ]
  },
  {
   "cell_type": "markdown",
   "id": "beccb3f3",
   "metadata": {},
   "source": [
    "Vocabulary and encoding/decoding"
   ]
  },
  {
   "cell_type": "code",
   "execution_count": 4,
   "id": "47de63da",
   "metadata": {},
   "outputs": [
    {
     "name": "stdout",
     "output_type": "stream",
     "text": [
      "all the unique characters: abcdefghijklmnopqrstuvwxyz*{}=SEGMFCIO\n",
      "vocab size: 38\n"
     ]
    }
   ],
   "source": [
    "chars = set()\n",
    "for name in names:\n",
    "    chars.update(list(name))\n",
    "chars = sorted(list(chars))\n",
    "chars += [\"*\", \"{\", \"}\", \"=\", \"S\", \"E\", \"G\", \"M\", \"F\", \"C\", \"I\", \"O\"]\n",
    "vocab_size = len(chars)\n",
    "print(\"all the unique characters:\", \"\".join(chars))\n",
    "print(f\"vocab size: {vocab_size:,}\")\n",
    "\n",
    "stoi = {ch: i for i, ch in enumerate(chars)}\n",
    "itos = {i: ch for i, ch in enumerate(chars)}\n",
    "\n",
    "\n",
    "def encode(s):\n",
    "    return [stoi[c] for c in s]\n",
    "\n",
    "\n",
    "def decode(l):\n",
    "    return \"\".join([itos[i] for i in l])"
   ]
  },
  {
   "cell_type": "markdown",
   "id": "118bbf47",
   "metadata": {},
   "source": [
    "splitting data into training and validation"
   ]
  },
  {
   "cell_type": "code",
   "execution_count": 5,
   "id": "c3202a8d",
   "metadata": {},
   "outputs": [
    {
     "name": "stdout",
     "output_type": "stream",
     "text": [
      "training names: 208306 validation names: 52077\n"
     ]
    }
   ],
   "source": [
    "train_df = df.sample(frac=0.8, random_state=seed)\n",
    "val_df = df.drop(train_df.index)\n",
    "val_df = val_df.sample(frac=1)\n",
    "train_df.to_csv(DATA_DIR + \"train.bin\", index=False)\n",
    "val_df.to_csv(DATA_DIR + \"val.bin\", index=False)\n",
    "print(\"training names:\", len(train_df), \"validation names:\", len(val_df))"
   ]
  },
  {
   "cell_type": "markdown",
   "id": "b2a0147e",
   "metadata": {},
   "source": [
    "save metadata"
   ]
  },
  {
   "cell_type": "code",
   "execution_count": 6,
   "id": "24d9ca03",
   "metadata": {},
   "outputs": [],
   "source": [
    "meta = {\n",
    "    \"vocab_size\": vocab_size,\n",
    "    \"itos\": itos,\n",
    "    \"stoi\": stoi,\n",
    "}\n",
    "with open(DATA_DIR + \"meta.pkl\", \"wb\") as f:\n",
    "    pickle.dump(meta, f)"
   ]
  },
  {
   "cell_type": "code",
   "execution_count": 7,
   "id": "af3427ac",
   "metadata": {},
   "outputs": [
    {
     "data": {
      "text/plain": [
       "{0: 'a',\n",
       " 1: 'b',\n",
       " 2: 'c',\n",
       " 3: 'd',\n",
       " 4: 'e',\n",
       " 5: 'f',\n",
       " 6: 'g',\n",
       " 7: 'h',\n",
       " 8: 'i',\n",
       " 9: 'j',\n",
       " 10: 'k',\n",
       " 11: 'l',\n",
       " 12: 'm',\n",
       " 13: 'n',\n",
       " 14: 'o',\n",
       " 15: 'p',\n",
       " 16: 'q',\n",
       " 17: 'r',\n",
       " 18: 's',\n",
       " 19: 't',\n",
       " 20: 'u',\n",
       " 21: 'v',\n",
       " 22: 'w',\n",
       " 23: 'x',\n",
       " 24: 'y',\n",
       " 25: 'z',\n",
       " 26: '*',\n",
       " 27: '{',\n",
       " 28: '}',\n",
       " 29: '=',\n",
       " 30: 'S',\n",
       " 31: 'E',\n",
       " 32: 'G',\n",
       " 33: 'M',\n",
       " 34: 'F',\n",
       " 35: 'C',\n",
       " 36: 'I',\n",
       " 37: 'O'}"
      ]
     },
     "execution_count": 7,
     "metadata": {},
     "output_type": "execute_result"
    }
   ],
   "source": [
    "itos"
   ]
  },
  {
   "cell_type": "code",
   "execution_count": 8,
   "id": "a9605686",
   "metadata": {},
   "outputs": [
    {
     "data": {
      "text/plain": [
       "{'a': 0,\n",
       " 'b': 1,\n",
       " 'c': 2,\n",
       " 'd': 3,\n",
       " 'e': 4,\n",
       " 'f': 5,\n",
       " 'g': 6,\n",
       " 'h': 7,\n",
       " 'i': 8,\n",
       " 'j': 9,\n",
       " 'k': 10,\n",
       " 'l': 11,\n",
       " 'm': 12,\n",
       " 'n': 13,\n",
       " 'o': 14,\n",
       " 'p': 15,\n",
       " 'q': 16,\n",
       " 'r': 17,\n",
       " 's': 18,\n",
       " 't': 19,\n",
       " 'u': 20,\n",
       " 'v': 21,\n",
       " 'w': 22,\n",
       " 'x': 23,\n",
       " 'y': 24,\n",
       " 'z': 25,\n",
       " '*': 26,\n",
       " '{': 27,\n",
       " '}': 28,\n",
       " '=': 29,\n",
       " 'S': 30,\n",
       " 'E': 31,\n",
       " 'G': 32,\n",
       " 'M': 33,\n",
       " 'F': 34,\n",
       " 'C': 35,\n",
       " 'I': 36,\n",
       " 'O': 37}"
      ]
     },
     "execution_count": 8,
     "metadata": {},
     "output_type": "execute_result"
    }
   ],
   "source": [
    "stoi"
   ]
  }
 ],
 "metadata": {
  "kernelspec": {
   "display_name": "Python 3 (ipykernel)",
   "language": "python",
   "name": "python3"
  },
  "language_info": {
   "codemirror_mode": {
    "name": "ipython",
    "version": 3
   },
   "file_extension": ".py",
   "mimetype": "text/x-python",
   "name": "python",
   "nbconvert_exporter": "python",
   "pygments_lexer": "ipython3",
   "version": "3.10.8"
  }
 },
 "nbformat": 4,
 "nbformat_minor": 5
}
