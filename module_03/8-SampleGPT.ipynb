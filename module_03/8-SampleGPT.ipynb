{
 "cells": [
  {
   "cell_type": "code",
   "execution_count": null,
   "id": "57ef56d9",
   "metadata": {},
   "outputs": [],
   "source": [
    "import os, pickle, torch\n",
    "from contextlib import nullcontext\n",
    "from model import GPT"
   ]
  },
  {
   "cell_type": "code",
   "execution_count": null,
   "id": "86968b16",
   "metadata": {},
   "outputs": [],
   "source": [
    "DATA_DIR = \"data/\"\n",
    "MODEL_DIR = \"best_models/\"\n",
    "CHECKPOINT = \"gpt.pt\"\n",
    "device = \"mps\"\n",
    "device = \"cuda\" if torch.cuda.is_available() else \"cpu\"\n",
    "print(\"device =\", device)\n",
    "sample_from_base = \"gpt2-large\"  # None"
   ]
  },
  {
   "cell_type": "code",
   "execution_count": null,
   "id": "db30dad5",
   "metadata": {},
   "outputs": [],
   "source": [
    "compile = False\n",
    "if device == \"cuda\":\n",
    "    compile = True\n",
    "    torch.backends.cuda.matmul.allow_tf32 = True  # allow tf32 on matmul\n",
    "    torch.backends.cudnn.allow_tf32 = True  # allow tf32 on cudnn\n",
    "    if torch.cuda.is_bf16_supported():\n",
    "        ctx = torch.amp.autocast(device_type=device, dtype=torch.bfloat16)\n",
    "    else:\n",
    "        ctx = torch.amp.autocast(device_type=device, dtype=torch.float16)\n",
    "else:\n",
    "    ctx = nullcontext()"
   ]
  },
  {
   "cell_type": "code",
   "execution_count": null,
   "id": "9684b9d9",
   "metadata": {},
   "outputs": [],
   "source": [
    "if sample_from_base is None:\n",
    "    checkpoint = torch.load(MODEL_DIR + CHECKPOINT, map_location=device)\n",
    "    print(\"best val loss:\", checkpoint[\"best_val_loss\"].item())\n",
    "    config = checkpoint[\"config\"]\n",
    "    model = GPT(config)\n",
    "    state_dict = checkpoint[\"model\"]\n",
    "    unwanted_prefix = \"_orig_mod.\"\n",
    "    for k, v in list(state_dict.items()):\n",
    "        if k.startswith(unwanted_prefix):\n",
    "            state_dict[k[len(unwanted_prefix) :]] = state_dict.pop(k)\n",
    "    model.load_state_dict(state_dict)\n",
    "else:\n",
    "    config = dict(dropout=0.0)\n",
    "    model = GPT.from_pretrained(sample_from_base, config)\n",
    "    model.crop_block_size(128)\n",
    "    config = model.config\n",
    "model.eval()\n",
    "model = model.to(device)\n",
    "if compile:\n",
    "    print(\"compiling the model... (takes a ~minute)\")\n",
    "    model = torch.compile(model)"
   ]
  },
  {
   "cell_type": "code",
   "execution_count": null,
   "id": "7965216c",
   "metadata": {},
   "outputs": [],
   "source": [
    "model"
   ]
  },
  {
   "cell_type": "code",
   "execution_count": null,
   "id": "7886f3f2",
   "metadata": {},
   "outputs": [],
   "source": [
    "print(\"--- learnable parameters ---\")\n",
    "for pn, p in model.named_parameters():\n",
    "    if p.requires_grad:\n",
    "        print(pn)"
   ]
  },
  {
   "cell_type": "code",
   "execution_count": null,
   "id": "8677eb05",
   "metadata": {},
   "outputs": [],
   "source": [
    "import tiktoken\n",
    "\n",
    "gpt2 = tiktoken.get_encoding(\"gpt2\")\n",
    "\n",
    "end_text_token = 50256\n",
    "start_input_token = 50257\n",
    "end_input_token = 50258\n",
    "concept_delimiter_token = 50259\n",
    "pad_token = 50260\n",
    "enc = tiktoken.Encoding(\n",
    "    name=\"gpt_modified\",\n",
    "    pat_str=gpt2._pat_str,\n",
    "    mergeable_ranks=gpt2._mergeable_ranks,\n",
    "    special_tokens={\n",
    "        **gpt2._special_tokens,\n",
    "        \"<|start_of_input|>\": start_input_token,\n",
    "        \"<|end_of_input|>\": end_input_token,\n",
    "        \"<|concept_delimiter|>\": concept_delimiter_token,\n",
    "        \"<|padding|>\": pad_token,\n",
    "    },\n",
    ")"
   ]
  },
  {
   "cell_type": "code",
   "execution_count": null,
   "id": "ad4e2b97",
   "metadata": {},
   "outputs": [],
   "source": [
    "# start = \"<|start_of_input|>mirzapur<|concept_delimiter|>traffic<|concept_delimiter|>late<|end_of_input|>\"\n",
    "start = \"a sentence using word morning and car is\"\n",
    "num_samples = 5\n",
    "max_new_tokens = 50\n",
    "temperature = 1.0\n",
    "top_k = 25\n",
    "\n",
    "x = torch.tensor(\n",
    "    enc.encode(\n",
    "        start,\n",
    "        allowed_special={\n",
    "            \"<|start_of_input|>\",\n",
    "            \"<|end_of_input|>\",\n",
    "            \"<|concept_delimiter|>\",\n",
    "        },\n",
    "    ),\n",
    "    dtype=torch.long,\n",
    "    device=device,\n",
    ")[None, ...]\n",
    "if config.get(\"prompt_vocab_size\", 0) > 0:\n",
    "    prompt = torch.arange(config[\"prompt_vocab_size\"], dtype=torch.long, device=device)[\n",
    "        None, ...\n",
    "    ]\n",
    "else:\n",
    "    prompt = None\n",
    "with torch.no_grad():\n",
    "    for k in range(num_samples):\n",
    "        with ctx:\n",
    "            y = model.generate(\n",
    "                x,\n",
    "                max_new_tokens,\n",
    "                temperature=temperature,\n",
    "                top_k=top_k,\n",
    "                end_token=end_text_token,\n",
    "                prompt=prompt,\n",
    "            )\n",
    "        output = enc.decode(y[0].tolist())\n",
    "        output = output.split(start)[1]\n",
    "        print(\"-----\", output + \"\\n\")"
   ]
  },
  {
   "cell_type": "code",
   "execution_count": null,
   "id": "88a677ce",
   "metadata": {},
   "outputs": [],
   "source": []
  }
 ],
 "metadata": {
  "kernelspec": {
   "display_name": "Python 3 (ipykernel)",
   "language": "python",
   "name": "python3"
  },
  "language_info": {
   "codemirror_mode": {
    "name": "ipython",
    "version": 3
   },
   "file_extension": ".py",
   "mimetype": "text/x-python",
   "name": "python",
   "nbconvert_exporter": "python",
   "pygments_lexer": "ipython3",
   "version": "3.10.8"
  }
 },
 "nbformat": 4,
 "nbformat_minor": 5
}
