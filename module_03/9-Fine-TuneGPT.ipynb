{
 "cells": [
  {
   "cell_type": "markdown",
   "id": "3a28bc7c",
   "metadata": {},
   "source": [
    "# Fine-tuning gpt2"
   ]
  },
  {
   "cell_type": "code",
   "execution_count": null,
   "id": "06d42342",
   "metadata": {},
   "outputs": [],
   "source": [
    "import os, time, math, pickle, random\n",
    "import numpy as np, pandas as pd\n",
    "from contextlib import nullcontext\n",
    "import torch\n",
    "from model import GPT"
   ]
  },
  {
   "cell_type": "code",
   "execution_count": null,
   "id": "aeb047db",
   "metadata": {},
   "outputs": [],
   "source": [
    "from_scratch = True\n",
    "task = \"commongen\"\n",
    "prompt_vocab_size = 20\n",
    "classification_task = \"classification\" in task\n",
    "always_save_checkpoint = False\n",
    "eval_only = False"
   ]
  },
  {
   "cell_type": "code",
   "execution_count": null,
   "id": "e19b952f",
   "metadata": {},
   "outputs": [],
   "source": [
    "DATA_DIR = \"data/\"\n",
    "MODEL_DIR = \"best_models/\"\n",
    "IN_CHECKPOINT = \"gpt.pt\"\n",
    "OUT_CHECKPOINT = \"gpt.pt\""
   ]
  },
  {
   "cell_type": "code",
   "execution_count": null,
   "id": "cc21f68d",
   "metadata": {},
   "outputs": [],
   "source": [
    "print(\"loading dataset for task:\", task)\n",
    "train_data = pd.read_csv(\n",
    "    DATA_DIR + task + \"_train.bin\", header=None, sep=\"@\"\n",
    ").values.tolist()\n",
    "train_data = [\n",
    "    [[_.strip() for _ in entry[0].split(\"#\")], entry[1].strip()] for entry in train_data\n",
    "]\n",
    "val_data = pd.read_csv(\n",
    "    DATA_DIR + task + \"_val.bin\", header=None, sep=\"@\"\n",
    ").values.tolist()\n",
    "val_data = [\n",
    "    [[_.strip() for _ in entry[0].split(\"#\")], entry[1].strip()] for entry in val_data\n",
    "]"
   ]
  },
  {
   "cell_type": "code",
   "execution_count": null,
   "id": "756f0eb4",
   "metadata": {},
   "outputs": [],
   "source": [
    "device = [\"mps\", \"cpu\", \"cuda\"][0]\n",
    "device = \"cuda\" if torch.cuda.is_available() else \"cpu\"\n",
    "print(\"device =\", device)"
   ]
  },
  {
   "cell_type": "code",
   "execution_count": null,
   "id": "8d705430",
   "metadata": {},
   "outputs": [],
   "source": [
    "compile = False\n",
    "if device == \"cuda\":\n",
    "    compile = True\n",
    "    torch.backends.cuda.matmul.allow_tf32 = True  # allow tf32 on matmul\n",
    "    torch.backends.cudnn.allow_tf32 = True  # allow tf32 on cudnn\n",
    "    if torch.cuda.is_bf16_supported():\n",
    "        ctx = torch.amp.autocast(device_type=device, dtype=torch.bfloat16)\n",
    "        scaler = torch.cuda.amp.GradScaler(enabled=False)\n",
    "    else:\n",
    "        ctx = torch.amp.autocast(device_type=device, dtype=torch.float16)\n",
    "        scaler = torch.cuda.amp.GradScaler(enabled=True)\n",
    "else:\n",
    "    ctx = nullcontext()\n",
    "    scaler = torch.cuda.amp.GradScaler(enabled=False)"
   ]
  },
  {
   "cell_type": "code",
   "execution_count": null,
   "id": "5d495fe3",
   "metadata": {},
   "outputs": [],
   "source": [
    "import tiktoken\n",
    "\n",
    "gpt2 = tiktoken.get_encoding(\"gpt2\")\n",
    "\n",
    "end_text_token = 50256\n",
    "start_input_token = 50257\n",
    "end_input_token = 50258\n",
    "concept_delimiter_token = 50259\n",
    "pad_token = 50260\n",
    "enc = tiktoken.Encoding(\n",
    "    name=\"gpt_modified\",\n",
    "    pat_str=gpt2._pat_str,\n",
    "    mergeable_ranks=gpt2._mergeable_ranks,\n",
    "    special_tokens={\n",
    "        **gpt2._special_tokens,\n",
    "        \"<|start_of_input|>\": start_input_token,\n",
    "        \"<|end_of_input|>\": end_input_token,\n",
    "        \"<|concept_delimiter|>\": concept_delimiter_token,\n",
    "        \"<|padding|>\": pad_token,\n",
    "    },\n",
    ")"
   ]
  },
  {
   "cell_type": "code",
   "execution_count": null,
   "id": "100f8f32",
   "metadata": {},
   "outputs": [],
   "source": [
    "if not from_scratch:\n",
    "    print(\"loading model from checkpoint\")\n",
    "    checkpoint = torch.load(MODEL_DIR + IN_CHECKPOINT, map_location=device)\n",
    "    config = checkpoint[\"config\"]\n",
    "    model = GPT(config)\n",
    "    state_dict = checkpoint[\"model\"]\n",
    "    unwanted_prefix = \"_orig_mod.\"\n",
    "    for k, v in list(state_dict.items()):\n",
    "        if k.startswith(unwanted_prefix):\n",
    "            state_dict[k[len(unwanted_prefix) :]] = state_dict.pop(k)\n",
    "    model.load_state_dict(state_dict)\n",
    "    iter_num = checkpoint[\"iter_num\"]\n",
    "    best_val_loss = checkpoint[\"best_val_loss\"]\n",
    "else:\n",
    "    print(\"building model from scratch\")\n",
    "    config = dict(dropout=0.2, prompt_vocab_size=prompt_vocab_size)\n",
    "    model = GPT.from_pretrained(\"gpt2\", config)\n",
    "    model.crop_block_size(128)\n",
    "    model.extend_vocab(n_added_tokens=4, pad_token=pad_token)\n",
    "    config = model.config\n",
    "    print(config)\n",
    "    iter_num = 0\n",
    "    best_val_loss = 1e9\n",
    "model = model.to(device)\n",
    "if compile:\n",
    "    print(\"compiling the model... (takes a ~minute)\")\n",
    "    model = torch.compile(model)"
   ]
  },
  {
   "cell_type": "code",
   "execution_count": null,
   "id": "ea17b0fa",
   "metadata": {},
   "outputs": [],
   "source": [
    "model"
   ]
  },
  {
   "cell_type": "code",
   "execution_count": null,
   "id": "d957f38d",
   "metadata": {},
   "outputs": [],
   "source": [
    "print(\"--- learnable parameters ---\")\n",
    "for pn, p in model.named_parameters():\n",
    "    if p.requires_grad:\n",
    "        print(pn)"
   ]
  },
  {
   "cell_type": "code",
   "execution_count": null,
   "id": "5ad53266",
   "metadata": {},
   "outputs": [],
   "source": [
    "batch_size = 8\n",
    "gradient_accumulation_steps = 2\n",
    "tokens_per_iter = gradient_accumulation_steps * batch_size * config[\"block_size\"]\n",
    "print(f\"tokens per iteration will be: {tokens_per_iter:,}\")"
   ]
  },
  {
   "cell_type": "code",
   "execution_count": null,
   "id": "ca5516da",
   "metadata": {},
   "outputs": [],
   "source": [
    "learning_rate = 1e-3\n",
    "max_iters = 5000\n",
    "lr_decay_iters = 2500\n",
    "min_lr = 1e-5\n",
    "weight_decay = 1e-2\n",
    "beta1 = 0.9\n",
    "beta2 = 0.99\n",
    "warmup_iters = 200\n",
    "grad_clip = 10.0\n",
    "decay_lr = False"
   ]
  },
  {
   "cell_type": "code",
   "execution_count": null,
   "id": "644f16f6",
   "metadata": {},
   "outputs": [],
   "source": [
    "optimizer = model.configure_optimizers(weight_decay, learning_rate, (beta1, beta2))\n",
    "if not from_scratch:\n",
    "    print(\"loading optimizer from checkpoint\")\n",
    "    optimizer.load_state_dict(checkpoint[\"optimizer\"])"
   ]
  },
  {
   "cell_type": "code",
   "execution_count": null,
   "id": "74df2cb8",
   "metadata": {},
   "outputs": [],
   "source": [
    "eval_interval = 100\n",
    "do_log = False\n",
    "log_interval = 1\n",
    "eval_iters = 50"
   ]
  },
  {
   "cell_type": "code",
   "execution_count": null,
   "id": "aff0439f",
   "metadata": {},
   "outputs": [],
   "source": [
    "train_data[:10]"
   ]
  },
  {
   "cell_type": "code",
   "execution_count": null,
   "id": "556780d5",
   "metadata": {},
   "outputs": [],
   "source": [
    "def get_batch(split, batch_index=None):\n",
    "    data = train_data if split == \"train\" else val_data\n",
    "    if batch_index is not None:\n",
    "        max_batches = len(data) // batch_size\n",
    "        batch_index = batch_index % max_batches\n",
    "        ix = torch.arange(batch_index * batch_size, (batch_index + 1) * batch_size)\n",
    "    else:\n",
    "        ix = torch.randint(len(data), (batch_size,))\n",
    "\n",
    "    x = (\n",
    "        torch.ones(\n",
    "            batch_size, config[\"block_size\"] - prompt_vocab_size, dtype=torch.long\n",
    "        )\n",
    "        * pad_token\n",
    "    )\n",
    "    y = torch.ones(batch_size, config[\"block_size\"], dtype=torch.long) * pad_token\n",
    "    for i, index in enumerate(ix):\n",
    "        concepts = data[index][0]\n",
    "        random.shuffle(concepts)\n",
    "        # concepts=concepts[0]\n",
    "        concepts = \"<|concept_delimiter|>\".join(concepts)\n",
    "        scene = data[index][1]\n",
    "        concepts_encoded = enc.encode(\n",
    "            concepts, allowed_special={\"<|concept_delimiter|>\"}\n",
    "        )\n",
    "        scene_encoded = enc.encode_ordinary(scene)\n",
    "        encoded = (\n",
    "            [start_input_token]\n",
    "            + concepts_encoded\n",
    "            + [end_input_token]\n",
    "            + scene_encoded\n",
    "            + [end_text_token]\n",
    "        )\n",
    "        x[i][: len(encoded)] = torch.Tensor(encoded)\n",
    "        y[i][\n",
    "            prompt_vocab_size\n",
    "            + 1\n",
    "            + len(concepts_encoded) : prompt_vocab_size\n",
    "            + 1\n",
    "            + len(concepts_encoded)\n",
    "            + len(scene_encoded)\n",
    "            + 1\n",
    "        ] = torch.Tensor(scene_encoded + [end_text_token])\n",
    "    x, y = x.to(device), y.to(device)\n",
    "    if prompt_vocab_size > 0:\n",
    "        prompt = torch.arange(prompt_vocab_size)\n",
    "        prompts = prompt.repeat(batch_size, 1)\n",
    "        prompts = prompts.to(device)\n",
    "    else:\n",
    "        prompts = None\n",
    "    return x, y, prompts"
   ]
  },
  {
   "cell_type": "code",
   "execution_count": null,
   "id": "d3432a0e",
   "metadata": {},
   "outputs": [],
   "source": [
    "x, y, prompts = get_batch(\"train\")\n",
    "ip = x[1].tolist()\n",
    "op = y[1].tolist()\n",
    "for i in range(prompt_vocab_size):\n",
    "    print(\"prompt\", i, \"-\", enc.decode([op[i]]))\n",
    "for i in range(len(ip)):\n",
    "    print(enc.decode([ip[i]]), \"-\", enc.decode([op[i + prompt_vocab_size]]))"
   ]
  },
  {
   "cell_type": "code",
   "execution_count": null,
   "id": "df8ac3ed",
   "metadata": {},
   "outputs": [],
   "source": [
    "@torch.no_grad()\n",
    "def estimate_loss():\n",
    "    out = {}\n",
    "    model.eval()\n",
    "    for split in [\"train\", \"val\"]:\n",
    "        losses = torch.zeros(eval_iters)\n",
    "        for k in range(eval_iters):\n",
    "            if split == \"val\":\n",
    "                X, Y, Prompts = get_batch(split, batch_index=k)\n",
    "            else:\n",
    "                X, Y, Prompts = get_batch(split)\n",
    "            with ctx:\n",
    "                logits, loss = model(X, Y, prompts=Prompts)\n",
    "            losses[k] = loss.item()\n",
    "        out[split] = losses.mean()\n",
    "    model.train()\n",
    "    return out\n",
    "\n",
    "\n",
    "def get_lr(it):\n",
    "    # 1) linear warmup for warmup_iters steps\n",
    "    if it < warmup_iters:\n",
    "        return learning_rate * it / warmup_iters\n",
    "    # 2) if it > lr_decay_iters, return min learning rate\n",
    "    if it > lr_decay_iters:\n",
    "        return min_lr\n",
    "    # 3) in between, use cosine decay down to min learning rate\n",
    "    decay_ratio = (it - warmup_iters) / (lr_decay_iters - warmup_iters)\n",
    "    assert 0 <= decay_ratio <= 1\n",
    "    coeff = 0.5 * (1.0 + math.cos(math.pi * decay_ratio))  # coeff ranges 0..1\n",
    "    return min_lr + coeff * (learning_rate - min_lr)"
   ]
  },
  {
   "cell_type": "code",
   "execution_count": null,
   "id": "0de00bb4",
   "metadata": {
    "scrolled": true
   },
   "outputs": [],
   "source": [
    "X, Y, Prompts = get_batch(\"train\")  # fetch the very first batch\n",
    "t0 = time.time()\n",
    "while True:\n",
    "    # determine and set the learning rate for this iteration\n",
    "    lr = get_lr(iter_num) if decay_lr else learning_rate\n",
    "    for param_group in optimizer.param_groups:\n",
    "        param_group[\"lr\"] = lr\n",
    "\n",
    "    # evaluate the loss on train/val sets and write checkpoints\n",
    "    if iter_num % eval_interval == 0:\n",
    "        losses = estimate_loss()\n",
    "        print(\n",
    "            f\"step {iter_num}: train loss {losses['train']:.4f}, val loss {losses['val']:.4f}\"\n",
    "        )\n",
    "        if not eval_only and (losses[\"val\"] < best_val_loss or always_save_checkpoint):\n",
    "            best_val_loss = losses[\"val\"]\n",
    "            if iter_num > 0:\n",
    "                checkpoint = {\n",
    "                    \"model\": model.state_dict(),\n",
    "                    \"optimizer\": optimizer.state_dict(),\n",
    "                    \"iter_num\": iter_num,\n",
    "                    \"best_val_loss\": best_val_loss,\n",
    "                    \"config\": config,\n",
    "                }\n",
    "                print(f\"saving checkpoint to {MODEL_DIR+OUT_CHECKPOINT}\")\n",
    "                torch.save(checkpoint, MODEL_DIR + OUT_CHECKPOINT)\n",
    "    if eval_only:\n",
    "        break\n",
    "\n",
    "    for micro_step in range(gradient_accumulation_steps):\n",
    "        with ctx:\n",
    "            logits, loss = model(X, Y, prompts=Prompts)\n",
    "            if gradient_accumulation_steps > 1:\n",
    "                loss = loss / gradient_accumulation_steps\n",
    "        X, Y, Prompts = get_batch(\"train\")\n",
    "        scaler.scale(loss).backward()\n",
    "    # clip the gradient\n",
    "    if grad_clip != 0.0:\n",
    "        scaler.unscale_(optimizer)\n",
    "        torch.nn.utils.clip_grad_norm_(model.parameters(), grad_clip)\n",
    "    scaler.step(optimizer)\n",
    "    scaler.update()\n",
    "    optimizer.zero_grad(set_to_none=True)\n",
    "\n",
    "    # timing and logging\n",
    "    t1 = time.time()\n",
    "    dt = t1 - t0\n",
    "    t0 = t1\n",
    "    if do_log and iter_num % log_interval == 0:\n",
    "        lossf = loss.item() * gradient_accumulation_steps\n",
    "        print(f\"iter {iter_num}: loss {lossf:.4f}, time {dt*1000:.2f}ms\")\n",
    "    iter_num += 1\n",
    "\n",
    "    # termination conditions\n",
    "    if iter_num > max_iters:\n",
    "        break"
   ]
  },
  {
   "cell_type": "code",
   "execution_count": null,
   "id": "33dbc4ef",
   "metadata": {},
   "outputs": [],
   "source": [
    "round(best_val_loss.item(), 2)"
   ]
  },
  {
   "cell_type": "code",
   "execution_count": null,
   "id": "262039e8",
   "metadata": {},
   "outputs": [],
   "source": []
  }
 ],
 "metadata": {
  "kernelspec": {
   "display_name": "Python 3 (ipykernel)",
   "language": "python",
   "name": "python3"
  },
  "language_info": {
   "codemirror_mode": {
    "name": "ipython",
    "version": 3
   },
   "file_extension": ".py",
   "mimetype": "text/x-python",
   "name": "python",
   "nbconvert_exporter": "python",
   "pygments_lexer": "ipython3",
   "version": "3.10.8"
  }
 },
 "nbformat": 4,
 "nbformat_minor": 5
}
